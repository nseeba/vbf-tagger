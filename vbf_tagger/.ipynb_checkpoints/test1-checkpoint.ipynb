{
 "cells": [
  {
   "cell_type": "code",
   "execution_count": 1,
   "id": "0712049e-d134-4967-b307-33313a74c7b7",
   "metadata": {},
   "outputs": [],
   "source": [
    "import awkward as ak\n",
    "import torch\n",
    "import numpy as np\n",
    "import vector\n",
    "import tqdm\n",
    "import os\n",
    "import glob\n",
    "\n",
    "from torch import nn\n",
    "from torch.utils.data import Dataset\n",
    "import torch.nn.functional as F\n",
    "\n",
    "import sklearn\n",
    "import sklearn.metrics\n",
    "import matplotlib\n",
    "import matplotlib.pyplot as plt\n",
    "\n",
    "from omegaconf import OmegaConf\n",
    "from omegaconf import DictConfig\n",
    "\n",
    "from torch.utils.data import IterableDataset\n",
    "from collections.abc import Sequence\n",
    "\n",
    "import vbf_tagger.tools.data.general as g\n",
    "from vbf_tagger.models.LorentzNet import LorentzNet"
   ]
  },
  {
   "cell_type": "code",
   "execution_count": 2,
   "id": "e174ad26-a1ff-4461-b9fc-8452446c5e98",
   "metadata": {},
   "outputs": [],
   "source": [
    "def load_parquet(input_path: str, columns: list = None) -> ak.Array:\n",
    "    \"\"\" Loads the contents of the .parquet file specified by the input_path\n",
    "    Args:\n",
    "        input_path : str\n",
    "            The path to the .parquet file to be loaded.\n",
    "        columns : list\n",
    "            Names of the columns/branches to be loaded from the .parquet file\n",
    "    Returns:\n",
    "        input_data : ak.Array\n",
    "            The data from the .parquet file\n",
    "    \"\"\"\n",
    "    ret = ak.from_parquet(input_path, columns=columns)\n",
    "    ret = ak.Array({k: ret[k] for k in ret.fields})\n",
    "    return ret"
   ]
  },
  {
   "cell_type": "code",
   "execution_count": 3,
   "id": "49871fc4-b755-4484-beaa-4db5df01f71c",
   "metadata": {},
   "outputs": [],
   "source": [
    "def load_all_data(input_loc: str, n_files: int = None, columns: list = None) -> ak.Array:\n",
    "    \"\"\"Loads all .parquet files specified by the input. The input can be a list of input_paths, a directory where the files\n",
    "    are located or a wildcard path.\n",
    "    Args:\n",
    "        input_loc : str\n",
    "            Location of the .parquet files.\n",
    "        n_files : int\n",
    "            [default: None] Maximum number of input files to be loaded. By default all will be loaded.\n",
    "        columns : list\n",
    "            [default: None] Names of the columns/branches to be loaded from the .parquet file. By default all columns will\n",
    "            be loaded\n",
    "    Returns:\n",
    "        input_data : ak.Array\n",
    "            The concatenated data from all the loaded files\n",
    "    \"\"\"\n",
    "    if n_files == -1:\n",
    "        n_files = None\n",
    "    if isinstance(input_loc, list):\n",
    "        input_files = input_loc[:n_files]\n",
    "    elif isinstance(input_loc, str):\n",
    "        if os.path.isdir(input_loc):\n",
    "            input_loc = os.path.expandvars(input_loc)\n",
    "            input_files = glob.glob(os.path.join(input_loc, \"*.parquet\"))[:n_files]\n",
    "        elif \"*\" in input_loc:\n",
    "            input_files = glob.glob(input_loc)[:n_files]\n",
    "        else:\n",
    "            raise ValueError(f\"Unexpected input_loc\")\n",
    "    else:\n",
    "        raise ValueError(f\"Unexpected input_loc\")\n",
    "    input_data = []\n",
    "    for i, file_path in enumerate(input_files):\n",
    "        print(f\"[{i+1}/{len(input_files)}] Loading from {file_path}\")\n",
    "        try:\n",
    "            input_data.append(load_parquet(file_path, columns=columns))\n",
    "        except ValueError:\n",
    "            print(f\"{file_path} does not exist\")\n",
    "    if len(input_data) > 0:\n",
    "        data = ak.concatenate(input_data)\n",
    "        print(\"Input data loaded\")\n",
    "    else:\n",
    "        raise ValueError(f\"No files found in {input_loc}\")\n",
    "    return data"
   ]
  },
  {
   "cell_type": "code",
   "execution_count": 4,
   "id": "a5674a05-5f29-4e11-916c-cfe82613c7f3",
   "metadata": {},
   "outputs": [
    {
     "name": "stdout",
     "output_type": "stream",
     "text": [
      "[1/10] Loading from /home/norman/vbf-tagger/vbf-tagger/data/22pre/hh_vbf/hh_vbf_hbb_htt_kv1p74_k2v1p37_kl14p4_madgraph_events_1.parquet\n",
      "[2/10] Loading from /home/norman/vbf-tagger/vbf-tagger/data/22pre/hh_vbf/hh_vbf_hbb_htt_kvm1p83_k2v3p57_klm3p39_madgraph_events_0.parquet\n",
      "[3/10] Loading from /home/norman/vbf-tagger/vbf-tagger/data/22pre/hh_vbf/hh_vbf_hbb_htt_kv1_k2v0_kl1_madgraph_events_0.parquet\n",
      "[4/10] Loading from /home/norman/vbf-tagger/vbf-tagger/data/22pre/hh_vbf/hh_vbf_hbb_htt_kv1_k2v2_kl1_madgraph_events_0.parquet\n",
      "[5/10] Loading from /home/norman/vbf-tagger/vbf-tagger/data/22pre/hh_vbf/hh_vbf_hbb_htt_kvm1p6_k2v2p72_klm1p36_madgraph_events_1.parquet\n",
      "[6/10] Loading from /home/norman/vbf-tagger/vbf-tagger/data/22pre/hh_vbf/hh_vbf_hbb_htt_kv1_k2v0_kl1_madgraph_events_1.parquet\n",
      "[7/10] Loading from /home/norman/vbf-tagger/vbf-tagger/data/22pre/hh_vbf/hh_vbf_hbb_htt_kv1p74_k2v1p37_kl14p4_madgraph_events_0.parquet\n",
      "[8/10] Loading from /home/norman/vbf-tagger/vbf-tagger/data/22pre/hh_vbf/hh_vbf_hbb_htt_kv1_k2v1_kl2_madgraph_events_0.parquet\n",
      "[9/10] Loading from /home/norman/vbf-tagger/vbf-tagger/data/22pre/hh_vbf/hh_vbf_hbb_htt_kvm2p12_k2v3p87_klm5p96_madgraph_events_1.parquet\n",
      "[10/10] Loading from /home/norman/vbf-tagger/vbf-tagger/data/22pre/hh_vbf/hh_vbf_hbb_htt_kv1_k2v0_kl1_madgraph_events_2.parquet\n",
      "Input data loaded\n"
     ]
    }
   ],
   "source": [
    "vbf_samples = load_all_data(\"/home/norman/vbf-tagger/vbf-tagger/data/22pre/hh_vbf/\", 10)"
   ]
  },
  {
   "cell_type": "code",
   "execution_count": 5,
   "id": "7054feff-3946-4f95-ab6c-e988f4acfa1f",
   "metadata": {},
   "outputs": [],
   "source": [
    "file_path = \"/home/norman/vbf-tagger/vbf-tagger/data/run3_2022_preEE/hh_vbf_hbb_htt_kv1_k2v0_kl1.parquet\""
   ]
  },
  {
   "cell_type": "code",
   "execution_count": 6,
   "id": "1ae1fc1f-4da2-4fe0-b5d5-bc6f44c29c80",
   "metadata": {},
   "outputs": [
    {
     "data": {
      "text/plain": [
       "'/home/norman/vbf-tagger/vbf-tagger/data/run3_2022_preEE/hh_vbf_hbb_htt_kv1_k2v0_kl1.parquet'"
      ]
     },
     "execution_count": 6,
     "metadata": {},
     "output_type": "execute_result"
    }
   ],
   "source": [
    "file_path"
   ]
  },
  {
   "cell_type": "code",
   "execution_count": 7,
   "id": "bb10e91c-1019-407c-a868-6537ed2e92fb",
   "metadata": {},
   "outputs": [
    {
     "data": {
      "text/plain": [
       "15"
      ]
     },
     "execution_count": 7,
     "metadata": {},
     "output_type": "execute_result"
    }
   ],
   "source": [
    "max(ak.num(vbf_samples.TrainingJet.isVBF, axis=-1))"
   ]
  },
  {
   "cell_type": "code",
   "execution_count": 8,
   "id": "d3d447d8-86ed-48b5-9080-90bf19095bfe",
   "metadata": {},
   "outputs": [
    {
     "data": {
      "text/plain": [
       "(array([1.07212e+05, 1.02672e+05, 5.96950e+04, 3.42290e+04, 3.02300e+03,\n",
       "        1.02700e+03, 3.95000e+02, 2.90000e+01, 4.00000e+00, 7.00000e+00]),\n",
       " array([ 2. ,  3.3,  4.6,  5.9,  7.2,  8.5,  9.8, 11.1, 12.4, 13.7, 15. ]),\n",
       " <BarContainer object of 10 artists>)"
      ]
     },
     "execution_count": 8,
     "metadata": {},
     "output_type": "execute_result"
    },
    {
     "data": {
      "image/png": "[encoded data removed]",
      "text/plain": [
       "<Figure size 640x480 with 1 Axes>"
      ]
     },
     "metadata": {},
     "output_type": "display_data"
    }
   ],
   "source": [
    "plt.hist(ak.num(vbf_samples.TrainingJet.isVBF, axis=-1))"
   ]
  },
  {
   "cell_type": "code",
   "execution_count": 340,
   "id": "787feb76-65f6-4d9a-86a6-7d4ca2277f4e",
   "metadata": {},
   "outputs": [],
   "source": [
    "def stack_and_pad_features(cand_features, max_cands):\n",
    "    cand_features_tensors = np.stack([ak.pad_none(cand_features[feat], max_cands, clip=True) for feat in cand_features.fields], axis=-1)\n",
    "    cand_features_tensors = ak.to_numpy(ak.fill_none(cand_features_tensors, 0))\n",
    "    # Swapping the axes such that it has the shape of (nJets, nFeatures, nParticles)\n",
    "    cand_features_tensors = np.swapaxes(cand_features_tensors, 1, 2)\n",
    "\n",
    "    cand_features_tensors[np.isnan(cand_features_tensors)] = 0\n",
    "    cand_features_tensors[np.isinf(cand_features_tensors)] = 0\n",
    "    return cand_features_tensors\n",
    "\n",
    "\n",
    "def load_row_groups(filename):\n",
    "    metadata = ak.metadata_from_parquet(filename)\n",
    "    num_row_groups = metadata[\"num_row_groups\"]\n",
    "    col_counts = metadata[\"col_counts\"]\n",
    "    return [RowGroup(filename, row_group, col_counts[row_group]) for row_group in range(num_row_groups)]\n",
    "\n",
    "\n",
    "class RowGroup:\n",
    "    def __init__(self, filename, row_group, num_rows):\n",
    "        self.filename = filename\n",
    "        self.row_group = row_group\n",
    "        self.num_rows = num_rows\n",
    "\n",
    "\n",
    "def initialize_p4(data):\n",
    "    return vector.awk(\n",
    "            ak.zip(\n",
    "                {\n",
    "                    \"mass\": data.mass,\n",
    "                    \"eta\": data.eta,\n",
    "                    \"phi\": data.phi,\n",
    "                    \"pt\": data.pt,\n",
    "                }\n",
    "            )\n",
    "            )\n",
    "\n",
    "class VBFdataset(IterableDataset):\n",
    "    def __init__(self, row_groups: Sequence[RowGroup]):\n",
    "        self.row_groups = row_groups\n",
    "        self.num_rows = sum([rg.num_rows for rg in self.row_groups])\n",
    "        self.max_jets = 16\n",
    "\n",
    "    def build_tensors(self, data: ak.Array):\n",
    "        jet_p4s = initialize_p4(data)\n",
    "\n",
    "        cand_kinematics = ak.Array({\n",
    "            \"cand_px\": jet_p4s.px,\n",
    "            \"cand_py\": jet_p4s.py,\n",
    "            \"cand_pz\": jet_p4s.pz,\n",
    "            \"cand_en\": jet_p4s.energy,\n",
    "        })\n",
    "        cand_kinematics_tensors = stack_and_pad_features(cand_kinematics, self.max_jets)\n",
    "        cand_kinematics_tensors = torch.tensor(cand_kinematics_tensors, dtype=torch.float32)\n",
    "        node_mask_tensors = torch.unsqueeze(\n",
    "            torch.tensor(\n",
    "                ak.to_numpy(ak.fill_none(ak.pad_none(ak.ones_like(data.isVBF), 16, clip=True), 0,)),\n",
    "                dtype=torch.bool\n",
    "            ),\n",
    "            dim=1\n",
    "        )\n",
    "        targets = torch.tensor(\n",
    "                    ak.to_numpy(ak.fill_none(ak.pad_none(data.isVBF, self.max_jets, clip=True), 0,)),\n",
    "                    dtype=torch.float32\n",
    "                )\n",
    "        \n",
    "        return cand_kinematics_tensors, targets, node_mask_tensors\n",
    "\n",
    "    def __len__(self):\n",
    "        return self.num_rows\n",
    "\n",
    "    def __iter__(self):\n",
    "        worker_info = torch.utils.data.get_worker_info()\n",
    "        if worker_info is None:\n",
    "            row_groups_to_process = self.row_groups\n",
    "        else:\n",
    "            per_worker = int(math.ceil(float(len(self.row_groups)) / float(worker_info.num_workers)))\n",
    "            worker_id = worker_info.id\n",
    "            row_groups_start = worker_id*per_worker\n",
    "            row_groups_end = row_groups_start + per_worker\n",
    "            row_groups_to_process = self.row_groups[row_groups_start:row_groups_end]\n",
    "\n",
    "        for row_group in row_groups_to_process:\n",
    "            # load one chunk from one file\n",
    "            data = ak.from_parquet(row_group.filename, row_groups=[row_group.row_group], columns=[\"TrainingJet\"]).TrainingJet\n",
    "            data = ak.Array({field: data[field] for field in data.fields})\n",
    "            tensors = self.build_tensors(data)\n",
    "\n",
    "            #return individual jets from the dataset\n",
    "            for ijet in range(len(data)):\n",
    "                yield tensors[0][ijet], tensors[1][ijet], tensors[2][ijet]\n"
   ]
  },
  {
   "cell_type": "code",
   "execution_count": 10,
   "id": "bb39824a-b34a-42ad-af1d-8e4117fdf169",
   "metadata": {},
   "outputs": [],
   "source": [
    "files = glob.glob(\"/home/norman/vbf-tagger/vbf-tagger/data/22pre/hh_vbf/*.parquet\")\n",
    "\n",
    "row_groups = []\n",
    "for f in files:\n",
    "    row_groups.extend(load_row_groups(f))"
   ]
  },
  {
   "cell_type": "code",
   "execution_count": 11,
   "id": "e1a8f3fc-148a-4ab9-83ac-9a90d7c3dbb2",
   "metadata": {},
   "outputs": [],
   "source": [
    "# data = load_row_groups(file_path)\n",
    "data = row_groups\n",
    "\n",
    "\n",
    "nvalid = int(0.5 * len(data))\n",
    "validation_data = data[:nvalid]\n",
    "training_data = data[nvalid:]\n",
    "\n",
    "dataset_train = VBFdataset(row_groups=training_data)\n",
    "dataset_val = VBFdataset(row_groups=validation_data)"
   ]
  },
  {
   "cell_type": "code",
   "execution_count": 12,
   "id": "45ec916b-8b8c-41de-838a-916d544fd980",
   "metadata": {},
   "outputs": [],
   "source": [
    "from torch.utils.data import DataLoader\n",
    "dataloader_train = DataLoader(\n",
    "    dataset_train,\n",
    "    batch_size=4096,\n",
    ")\n",
    "\n",
    "dataloader_val = DataLoader(\n",
    "    dataset_val,\n",
    "    batch_size=4096,\n",
    ")"
   ]
  },
  {
   "cell_type": "code",
   "execution_count": 13,
   "id": "25c631ea-15e7-4021-82a5-3ce3c6771d62",
   "metadata": {},
   "outputs": [],
   "source": [
    "model = LorentzNet(\n",
    "    n_scalar=4,\n",
    "    n_hidden=1,\n",
    "    n_class=16,\n",
    "    dropout=0,\n",
    "    n_layers=2,\n",
    "    c_weight=1,\n",
    "    verbosity=1,\n",
    ").to(device=\"cpu\")"
   ]
  },
  {
   "cell_type": "code",
   "execution_count": 15,
   "id": "7b72e475-2dda-4fec-ad52-e29ddf421639",
   "metadata": {},
   "outputs": [],
   "source": [
    "cls_loss = nn.CrossEntropyLoss(reduction=\"none\")\n",
    "optimizer = torch.optim.AdamW(model.parameters(), lr=1e-3)"
   ]
  },
  {
   "cell_type": "code",
   "execution_count": 16,
   "id": "a2492eec-5f2c-47a1-9fb1-51e490892ff8",
   "metadata": {},
   "outputs": [],
   "source": [
    "import tqdm\n",
    "def next_epoch(dataloader, train=True):\n",
    "    if train:\n",
    "        model.train()\n",
    "    else:\n",
    "        model.eval()\n",
    "    dev = \"cpu\"\n",
    "    loss_train = 0.0\n",
    "    normalization = 0.0\n",
    "    for idx_batch, (X, y, w) in tqdm.tqdm(enumerate(dataloader), total=len(dataloader)):\n",
    "        cand_kinematics = X.to(device=dev)\n",
    "        mask = w.to(device=dev).bool()\n",
    "        y = y.to(device=dev)\n",
    "        pred = model(cand_kinematics, cand_kinematics, mask)\n",
    "        # print(pred)\n",
    "        loss = cls_loss(pred, y)\n",
    "        loss_train += loss.sum().item()\n",
    "        normalization += torch.flatten(loss).size(dim=0)\n",
    "        if train:\n",
    "            optimizer.zero_grad()\n",
    "            loss.mean().backward()\n",
    "            optimizer.step()\n",
    "        # print(loss)\n",
    "        # print(idx_batch, X)\n",
    "    loss_train /= normalization\n",
    "    return loss_train"
   ]
  },
  {
   "cell_type": "code",
   "execution_count": 17,
   "id": "6d42fd9f-9fbd-4629-964c-721eb7aa19b2",
   "metadata": {},
   "outputs": [
    {
     "name": "stderr",
     "output_type": "stream",
     "text": [
      "100%|███████████████████████████████████████████████████████████████████| 49/49 [01:46<00:00,  2.17s/it]\n",
      "100%|███████████████████████████████████████████████████████████████████| 54/54 [00:24<00:00,  2.23it/s]\n"
     ]
    },
    {
     "name": "stdout",
     "output_type": "stream",
     "text": [
      "train_loss: 3.4146544218916 \t val_loss: 3.4034951088025194\n"
     ]
    },
    {
     "name": "stderr",
     "output_type": "stream",
     "text": [
      "100%|███████████████████████████████████████████████████████████████████| 49/49 [01:43<00:00,  2.11s/it]\n",
      "100%|███████████████████████████████████████████████████████████████████| 54/54 [00:24<00:00,  2.24it/s]\n"
     ]
    },
    {
     "name": "stdout",
     "output_type": "stream",
     "text": [
      "train_loss: 3.3301983875985717 \t val_loss: 3.320526405552993\n"
     ]
    },
    {
     "name": "stderr",
     "output_type": "stream",
     "text": [
      "100%|███████████████████████████████████████████████████████████████████| 49/49 [01:44<00:00,  2.14s/it]\n",
      "100%|███████████████████████████████████████████████████████████████████| 54/54 [00:25<00:00,  2.15it/s]\n"
     ]
    },
    {
     "name": "stdout",
     "output_type": "stream",
     "text": [
      "train_loss: 3.2496654955976387 \t val_loss: 3.2414959294504184\n"
     ]
    },
    {
     "name": "stderr",
     "output_type": "stream",
     "text": [
      "100%|███████████████████████████████████████████████████████████████████| 49/49 [01:45<00:00,  2.15s/it]\n",
      "100%|███████████████████████████████████████████████████████████████████| 54/54 [00:24<00:00,  2.18it/s]\n"
     ]
    },
    {
     "name": "stdout",
     "output_type": "stream",
     "text": [
      "train_loss: 3.173028610087399 \t val_loss: 3.1663665634520095\n"
     ]
    },
    {
     "name": "stderr",
     "output_type": "stream",
     "text": [
      "100%|███████████████████████████████████████████████████████████████████| 49/49 [01:45<00:00,  2.15s/it]\n",
      "100%|███████████████████████████████████████████████████████████████████| 54/54 [00:24<00:00,  2.16it/s]\n"
     ]
    },
    {
     "name": "stdout",
     "output_type": "stream",
     "text": [
      "train_loss: 3.1002468447068794 \t val_loss: 3.0950838848708666\n"
     ]
    },
    {
     "name": "stderr",
     "output_type": "stream",
     "text": [
      "100%|███████████████████████████████████████████████████████████████████| 49/49 [01:46<00:00,  2.17s/it]\n",
      "100%|███████████████████████████████████████████████████████████████████| 54/54 [00:27<00:00,  1.98it/s]\n"
     ]
    },
    {
     "name": "stdout",
     "output_type": "stream",
     "text": [
      "train_loss: 3.031256838748011 \t val_loss: 3.0275689757197872\n"
     ]
    },
    {
     "name": "stderr",
     "output_type": "stream",
     "text": [
      "100%|███████████████████████████████████████████████████████████████████| 49/49 [01:46<00:00,  2.18s/it]\n",
      "100%|███████████████████████████████████████████████████████████████████| 54/54 [00:24<00:00,  2.17it/s]\n"
     ]
    },
    {
     "name": "stdout",
     "output_type": "stream",
     "text": [
      "train_loss: 2.9659712179502367 \t val_loss: 2.9637217740473103\n"
     ]
    },
    {
     "name": "stderr",
     "output_type": "stream",
     "text": [
      "100%|███████████████████████████████████████████████████████████████████| 49/49 [01:45<00:00,  2.16s/it]\n",
      "100%|███████████████████████████████████████████████████████████████████| 54/54 [00:26<00:00,  2.08it/s]\n"
     ]
    },
    {
     "name": "stdout",
     "output_type": "stream",
     "text": [
      "train_loss: 2.9042808838249856 \t val_loss: 2.9034218354037655\n"
     ]
    },
    {
     "name": "stderr",
     "output_type": "stream",
     "text": [
      "100%|███████████████████████████████████████████████████████████████████| 49/49 [01:43<00:00,  2.11s/it]\n",
      "100%|███████████████████████████████████████████████████████████████████| 54/54 [00:26<00:00,  2.04it/s]\n"
     ]
    },
    {
     "name": "stdout",
     "output_type": "stream",
     "text": [
      "train_loss: 2.8460607808049945 \t val_loss: 2.846536509747049\n"
     ]
    },
    {
     "name": "stderr",
     "output_type": "stream",
     "text": [
      "100%|███████████████████████████████████████████████████████████████████| 49/49 [01:46<00:00,  2.17s/it]\n",
      "100%|███████████████████████████████████████████████████████████████████| 54/54 [00:25<00:00,  2.13it/s]\n"
     ]
    },
    {
     "name": "stdout",
     "output_type": "stream",
     "text": [
      "train_loss: 2.7911711285828025 \t val_loss: 2.7929158192553016\n"
     ]
    },
    {
     "name": "stderr",
     "output_type": "stream",
     "text": [
      "100%|███████████████████████████████████████████████████████████████████| 49/49 [01:44<00:00,  2.13s/it]\n",
      "100%|███████████████████████████████████████████████████████████████████| 54/54 [00:24<00:00,  2.18it/s]\n"
     ]
    },
    {
     "name": "stdout",
     "output_type": "stream",
     "text": [
      "train_loss: 2.739460992482755 \t val_loss: 2.742408493385233\n"
     ]
    },
    {
     "name": "stderr",
     "output_type": "stream",
     "text": [
      "100%|███████████████████████████████████████████████████████████████████| 49/49 [01:46<00:00,  2.18s/it]\n",
      "100%|███████████████████████████████████████████████████████████████████| 54/54 [00:24<00:00,  2.18it/s]\n"
     ]
    },
    {
     "name": "stdout",
     "output_type": "stream",
     "text": [
      "train_loss: 2.6907763107093783 \t val_loss: 2.694821996331646\n"
     ]
    },
    {
     "name": "stderr",
     "output_type": "stream",
     "text": [
      "100%|███████████████████████████████████████████████████████████████████| 49/49 [01:45<00:00,  2.15s/it]\n",
      "100%|███████████████████████████████████████████████████████████████████| 54/54 [00:24<00:00,  2.19it/s]\n"
     ]
    },
    {
     "name": "stdout",
     "output_type": "stream",
     "text": [
      "train_loss: 2.644905311006776 \t val_loss: 2.6496792519060026\n"
     ]
    },
    {
     "name": "stderr",
     "output_type": "stream",
     "text": [
      "100%|███████████████████████████████████████████████████████████████████| 49/49 [01:46<00:00,  2.17s/it]\n",
      "100%|███████████████████████████████████████████████████████████████████| 54/54 [00:24<00:00,  2.20it/s]\n"
     ]
    },
    {
     "name": "stdout",
     "output_type": "stream",
     "text": [
      "train_loss: 2.598515613699505 \t val_loss: 2.597029085311398\n"
     ]
    },
    {
     "name": "stderr",
     "output_type": "stream",
     "text": [
      "100%|███████████████████████████████████████████████████████████████████| 49/49 [01:45<00:00,  2.15s/it]\n",
      "100%|███████████████████████████████████████████████████████████████████| 54/54 [00:28<00:00,  1.88it/s]\n"
     ]
    },
    {
     "name": "stdout",
     "output_type": "stream",
     "text": [
      "train_loss: 2.499219793347453 \t val_loss: 2.3657345851469214\n"
     ]
    },
    {
     "name": "stderr",
     "output_type": "stream",
     "text": [
      "100%|███████████████████████████████████████████████████████████████████| 49/49 [01:44<00:00,  2.14s/it]\n",
      "100%|███████████████████████████████████████████████████████████████████| 54/54 [00:24<00:00,  2.19it/s]\n"
     ]
    },
    {
     "name": "stdout",
     "output_type": "stream",
     "text": [
      "train_loss: 2.235957634365227 \t val_loss: 2.154953342850124\n"
     ]
    },
    {
     "name": "stderr",
     "output_type": "stream",
     "text": [
      "100%|███████████████████████████████████████████████████████████████████| 49/49 [01:43<00:00,  2.12s/it]\n",
      "100%|███████████████████████████████████████████████████████████████████| 54/54 [00:24<00:00,  2.17it/s]\n"
     ]
    },
    {
     "name": "stdout",
     "output_type": "stream",
     "text": [
      "train_loss: 2.0502149563652807 \t val_loss: 1.9932558191589675\n"
     ]
    },
    {
     "name": "stderr",
     "output_type": "stream",
     "text": [
      "100%|███████████████████████████████████████████████████████████████████| 49/49 [01:44<00:00,  2.13s/it]\n",
      "100%|███████████████████████████████████████████████████████████████████| 54/54 [00:24<00:00,  2.18it/s]\n"
     ]
    },
    {
     "name": "stdout",
     "output_type": "stream",
     "text": [
      "train_loss: 1.9176222485632004 \t val_loss: 1.9147131993020863\n"
     ]
    },
    {
     "name": "stderr",
     "output_type": "stream",
     "text": [
      "100%|███████████████████████████████████████████████████████████████████| 49/49 [01:46<00:00,  2.17s/it]\n",
      "100%|███████████████████████████████████████████████████████████████████| 54/54 [00:31<00:00,  1.70it/s]\n"
     ]
    },
    {
     "name": "stdout",
     "output_type": "stream",
     "text": [
      "train_loss: 1.8929879384358368 \t val_loss: 1.9081234809637737\n"
     ]
    },
    {
     "name": "stderr",
     "output_type": "stream",
     "text": [
      "100%|███████████████████████████████████████████████████████████████████| 49/49 [01:44<00:00,  2.13s/it]\n",
      "100%|███████████████████████████████████████████████████████████████████| 54/54 [00:25<00:00,  2.11it/s]\n"
     ]
    },
    {
     "name": "stdout",
     "output_type": "stream",
     "text": [
      "train_loss: 1.8870418662308157 \t val_loss: 1.9038939377137771\n"
     ]
    },
    {
     "name": "stderr",
     "output_type": "stream",
     "text": [
      "100%|███████████████████████████████████████████████████████████████████| 49/49 [01:45<00:00,  2.16s/it]\n",
      "100%|███████████████████████████████████████████████████████████████████| 54/54 [00:27<00:00,  1.99it/s]\n"
     ]
    },
    {
     "name": "stdout",
     "output_type": "stream",
     "text": [
      "train_loss: 1.8831826521070045 \t val_loss: 1.900840972402062\n"
     ]
    },
    {
     "name": "stderr",
     "output_type": "stream",
     "text": [
      "100%|███████████████████████████████████████████████████████████████████| 49/49 [01:45<00:00,  2.14s/it]\n",
      "100%|███████████████████████████████████████████████████████████████████| 54/54 [00:26<00:00,  2.01it/s]\n"
     ]
    },
    {
     "name": "stdout",
     "output_type": "stream",
     "text": [
      "train_loss: 1.8801805829863172 \t val_loss: 1.8982705065109242\n"
     ]
    },
    {
     "name": "stderr",
     "output_type": "stream",
     "text": [
      "100%|███████████████████████████████████████████████████████████████████| 49/49 [01:43<00:00,  2.11s/it]\n",
      "100%|███████████████████████████████████████████████████████████████████| 54/54 [00:24<00:00,  2.24it/s]\n"
     ]
    },
    {
     "name": "stdout",
     "output_type": "stream",
     "text": [
      "train_loss: 1.877641870704253 \t val_loss: 1.896011084006068\n"
     ]
    },
    {
     "name": "stderr",
     "output_type": "stream",
     "text": [
      "100%|███████████████████████████████████████████████████████████████████| 49/49 [01:44<00:00,  2.12s/it]\n",
      "100%|███████████████████████████████████████████████████████████████████| 54/54 [00:24<00:00,  2.18it/s]\n"
     ]
    },
    {
     "name": "stdout",
     "output_type": "stream",
     "text": [
      "train_loss: 1.8754202615230762 \t val_loss: 1.8939656179661788\n"
     ]
    },
    {
     "name": "stderr",
     "output_type": "stream",
     "text": [
      "100%|███████████████████████████████████████████████████████████████████| 49/49 [01:43<00:00,  2.11s/it]\n",
      "100%|███████████████████████████████████████████████████████████████████| 54/54 [00:24<00:00,  2.18it/s]\n"
     ]
    },
    {
     "name": "stdout",
     "output_type": "stream",
     "text": [
      "train_loss: 1.8734220684917564 \t val_loss: 1.8920791699439221\n"
     ]
    },
    {
     "name": "stderr",
     "output_type": "stream",
     "text": [
      "100%|███████████████████████████████████████████████████████████████████| 49/49 [01:45<00:00,  2.16s/it]\n",
      "100%|███████████████████████████████████████████████████████████████████| 54/54 [00:24<00:00,  2.18it/s]\n"
     ]
    },
    {
     "name": "stdout",
     "output_type": "stream",
     "text": [
      "train_loss: 1.8715604775035974 \t val_loss: 1.8902543032748564\n"
     ]
    },
    {
     "name": "stderr",
     "output_type": "stream",
     "text": [
      "100%|███████████████████████████████████████████████████████████████████| 49/49 [01:43<00:00,  2.12s/it]\n",
      "100%|███████████████████████████████████████████████████████████████████| 54/54 [00:24<00:00,  2.21it/s]\n"
     ]
    },
    {
     "name": "stdout",
     "output_type": "stream",
     "text": [
      "train_loss: 1.8696241084104053 \t val_loss: 1.8880335694432953\n"
     ]
    },
    {
     "name": "stderr",
     "output_type": "stream",
     "text": [
      "100%|███████████████████████████████████████████████████████████████████| 49/49 [01:43<00:00,  2.11s/it]\n",
      "100%|███████████████████████████████████████████████████████████████████| 54/54 [00:24<00:00,  2.19it/s]\n"
     ]
    },
    {
     "name": "stdout",
     "output_type": "stream",
     "text": [
      "train_loss: 1.8676177809708387 \t val_loss: 1.8863866445513315\n"
     ]
    },
    {
     "name": "stderr",
     "output_type": "stream",
     "text": [
      "100%|███████████████████████████████████████████████████████████████████| 49/49 [01:43<00:00,  2.11s/it]\n",
      "100%|███████████████████████████████████████████████████████████████████| 54/54 [00:25<00:00,  2.14it/s]\n"
     ]
    },
    {
     "name": "stdout",
     "output_type": "stream",
     "text": [
      "train_loss: 1.866076505444189 \t val_loss: 1.8848767525583843\n"
     ]
    },
    {
     "name": "stderr",
     "output_type": "stream",
     "text": [
      "100%|███████████████████████████████████████████████████████████████████| 49/49 [01:42<00:00,  2.10s/it]\n",
      "100%|███████████████████████████████████████████████████████████████████| 54/54 [00:26<00:00,  2.08it/s]\n"
     ]
    },
    {
     "name": "stdout",
     "output_type": "stream",
     "text": [
      "train_loss: 1.8646284322137063 \t val_loss: 1.8834626082804722\n"
     ]
    },
    {
     "name": "stderr",
     "output_type": "stream",
     "text": [
      "100%|███████████████████████████████████████████████████████████████████| 49/49 [01:42<00:00,  2.09s/it]\n",
      "100%|███████████████████████████████████████████████████████████████████| 54/54 [00:24<00:00,  2.23it/s]\n"
     ]
    },
    {
     "name": "stdout",
     "output_type": "stream",
     "text": [
      "train_loss: 1.86327196362316 \t val_loss: 1.882115672235687\n"
     ]
    },
    {
     "name": "stderr",
     "output_type": "stream",
     "text": [
      "100%|███████████████████████████████████████████████████████████████████| 49/49 [01:44<00:00,  2.13s/it]\n",
      "100%|███████████████████████████████████████████████████████████████████| 54/54 [00:24<00:00,  2.18it/s]\n"
     ]
    },
    {
     "name": "stdout",
     "output_type": "stream",
     "text": [
      "train_loss: 1.861994123586581 \t val_loss: 1.880840426891326\n"
     ]
    },
    {
     "name": "stderr",
     "output_type": "stream",
     "text": [
      "100%|███████████████████████████████████████████████████████████████████| 49/49 [01:45<00:00,  2.15s/it]\n",
      "100%|███████████████████████████████████████████████████████████████████| 54/54 [00:24<00:00,  2.16it/s]\n"
     ]
    },
    {
     "name": "stdout",
     "output_type": "stream",
     "text": [
      "train_loss: 1.860786797179334 \t val_loss: 1.8796310904179663\n"
     ]
    },
    {
     "name": "stderr",
     "output_type": "stream",
     "text": [
      "100%|███████████████████████████████████████████████████████████████████| 49/49 [01:44<00:00,  2.14s/it]\n",
      "100%|███████████████████████████████████████████████████████████████████| 54/54 [00:24<00:00,  2.23it/s]\n"
     ]
    },
    {
     "name": "stdout",
     "output_type": "stream",
     "text": [
      "train_loss: 1.859642298116262 \t val_loss: 1.878470571887212\n"
     ]
    },
    {
     "name": "stderr",
     "output_type": "stream",
     "text": [
      "100%|███████████████████████████████████████████████████████████████████| 49/49 [01:44<00:00,  2.13s/it]\n",
      "100%|███████████████████████████████████████████████████████████████████| 54/54 [00:25<00:00,  2.15it/s]\n"
     ]
    },
    {
     "name": "stdout",
     "output_type": "stream",
     "text": [
      "train_loss: 1.8585557335751588 \t val_loss: 1.8773409746333347\n"
     ]
    },
    {
     "name": "stderr",
     "output_type": "stream",
     "text": [
      "100%|███████████████████████████████████████████████████████████████████| 49/49 [01:43<00:00,  2.12s/it]\n",
      "100%|███████████████████████████████████████████████████████████████████| 54/54 [00:25<00:00,  2.14it/s]\n"
     ]
    },
    {
     "name": "stdout",
     "output_type": "stream",
     "text": [
      "train_loss: 1.857522751404067 \t val_loss: 1.876259838938243\n"
     ]
    },
    {
     "name": "stderr",
     "output_type": "stream",
     "text": [
      "100%|███████████████████████████████████████████████████████████████████| 49/49 [01:44<00:00,  2.14s/it]\n",
      "100%|███████████████████████████████████████████████████████████████████| 54/54 [00:24<00:00,  2.24it/s]\n"
     ]
    },
    {
     "name": "stdout",
     "output_type": "stream",
     "text": [
      "train_loss: 1.856543804596979 \t val_loss: 1.875202935129326\n"
     ]
    },
    {
     "name": "stderr",
     "output_type": "stream",
     "text": [
      "100%|███████████████████████████████████████████████████████████████████| 49/49 [01:42<00:00,  2.10s/it]\n",
      "100%|███████████████████████████████████████████████████████████████████| 54/54 [00:24<00:00,  2.20it/s]\n"
     ]
    },
    {
     "name": "stdout",
     "output_type": "stream",
     "text": [
      "train_loss: 1.8556072127281609 \t val_loss: 1.8742546398428503\n"
     ]
    },
    {
     "name": "stderr",
     "output_type": "stream",
     "text": [
      "100%|███████████████████████████████████████████████████████████████████| 49/49 [01:44<00:00,  2.13s/it]\n",
      "100%|███████████████████████████████████████████████████████████████████| 54/54 [00:25<00:00,  2.08it/s]\n"
     ]
    },
    {
     "name": "stdout",
     "output_type": "stream",
     "text": [
      "train_loss: 1.854709032801519 \t val_loss: 1.8733704316641242\n"
     ]
    },
    {
     "name": "stderr",
     "output_type": "stream",
     "text": [
      "100%|███████████████████████████████████████████████████████████████████| 49/49 [01:44<00:00,  2.14s/it]\n",
      "100%|███████████████████████████████████████████████████████████████████| 54/54 [00:24<00:00,  2.23it/s]\n"
     ]
    },
    {
     "name": "stdout",
     "output_type": "stream",
     "text": [
      "train_loss: 1.853850312061229 \t val_loss: 1.8725006979810312\n"
     ]
    },
    {
     "name": "stderr",
     "output_type": "stream",
     "text": [
      "100%|███████████████████████████████████████████████████████████████████| 49/49 [01:45<00:00,  2.16s/it]\n",
      "100%|███████████████████████████████████████████████████████████████████| 54/54 [00:26<00:00,  2.08it/s]\n"
     ]
    },
    {
     "name": "stdout",
     "output_type": "stream",
     "text": [
      "train_loss: 1.8530327163561655 \t val_loss: 1.8716539101033725\n"
     ]
    },
    {
     "name": "stderr",
     "output_type": "stream",
     "text": [
      "100%|███████████████████████████████████████████████████████████████████| 49/49 [01:44<00:00,  2.13s/it]\n",
      "100%|███████████████████████████████████████████████████████████████████| 54/54 [00:24<00:00,  2.21it/s]\n"
     ]
    },
    {
     "name": "stdout",
     "output_type": "stream",
     "text": [
      "train_loss: 1.8522542072133634 \t val_loss: 1.8708395000277669\n"
     ]
    },
    {
     "name": "stderr",
     "output_type": "stream",
     "text": [
      "100%|███████████████████████████████████████████████████████████████████| 49/49 [01:43<00:00,  2.12s/it]\n",
      "100%|███████████████████████████████████████████████████████████████████| 54/54 [00:24<00:00,  2.17it/s]\n"
     ]
    },
    {
     "name": "stdout",
     "output_type": "stream",
     "text": [
      "train_loss: 1.8515102644347072 \t val_loss: 1.8700525492147904\n"
     ]
    },
    {
     "name": "stderr",
     "output_type": "stream",
     "text": [
      "100%|███████████████████████████████████████████████████████████████████| 49/49 [01:45<00:00,  2.15s/it]\n",
      "100%|███████████████████████████████████████████████████████████████████| 54/54 [00:24<00:00,  2.19it/s]\n"
     ]
    },
    {
     "name": "stdout",
     "output_type": "stream",
     "text": [
      "train_loss: 1.850801669800151 \t val_loss: 1.869273596008898\n"
     ]
    },
    {
     "name": "stderr",
     "output_type": "stream",
     "text": [
      "100%|███████████████████████████████████████████████████████████████████| 49/49 [01:44<00:00,  2.13s/it]\n",
      "100%|███████████████████████████████████████████████████████████████████| 54/54 [00:24<00:00,  2.21it/s]\n"
     ]
    },
    {
     "name": "stdout",
     "output_type": "stream",
     "text": [
      "train_loss: 1.8501173931495307 \t val_loss: 1.8685707650587526\n"
     ]
    },
    {
     "name": "stderr",
     "output_type": "stream",
     "text": [
      "100%|███████████████████████████████████████████████████████████████████| 49/49 [01:44<00:00,  2.14s/it]\n",
      "100%|███████████████████████████████████████████████████████████████████| 54/54 [00:24<00:00,  2.21it/s]\n"
     ]
    },
    {
     "name": "stdout",
     "output_type": "stream",
     "text": [
      "train_loss: 1.8494645995813672 \t val_loss: 1.8678689390667076\n"
     ]
    },
    {
     "name": "stderr",
     "output_type": "stream",
     "text": [
      "100%|███████████████████████████████████████████████████████████████████| 49/49 [01:45<00:00,  2.15s/it]\n",
      "100%|███████████████████████████████████████████████████████████████████| 54/54 [00:26<00:00,  2.08it/s]\n"
     ]
    },
    {
     "name": "stdout",
     "output_type": "stream",
     "text": [
      "train_loss: 1.8488364527831016 \t val_loss: 1.8672334248143299\n"
     ]
    },
    {
     "name": "stderr",
     "output_type": "stream",
     "text": [
      "100%|███████████████████████████████████████████████████████████████████| 49/49 [01:43<00:00,  2.12s/it]\n",
      "100%|███████████████████████████████████████████████████████████████████| 54/54 [00:24<00:00,  2.23it/s]\n"
     ]
    },
    {
     "name": "stdout",
     "output_type": "stream",
     "text": [
      "train_loss: 1.8482387466940207 \t val_loss: 1.8665976183714912\n"
     ]
    },
    {
     "name": "stderr",
     "output_type": "stream",
     "text": [
      "100%|███████████████████████████████████████████████████████████████████| 49/49 [01:43<00:00,  2.12s/it]\n",
      "100%|███████████████████████████████████████████████████████████████████| 54/54 [00:25<00:00,  2.09it/s]\n"
     ]
    },
    {
     "name": "stdout",
     "output_type": "stream",
     "text": [
      "train_loss: 1.8476662085614735 \t val_loss: 1.8660089453489794\n"
     ]
    },
    {
     "name": "stderr",
     "output_type": "stream",
     "text": [
      "100%|███████████████████████████████████████████████████████████████████| 49/49 [01:42<00:00,  2.09s/it]\n",
      "100%|███████████████████████████████████████████████████████████████████| 54/54 [00:26<00:00,  2.04it/s]"
     ]
    },
    {
     "name": "stdout",
     "output_type": "stream",
     "text": [
      "train_loss: 1.8471196737453488 \t val_loss: 1.8654202590450832\n"
     ]
    },
    {
     "name": "stderr",
     "output_type": "stream",
     "text": [
      "\n"
     ]
    }
   ],
   "source": [
    "losses_val = []\n",
    "losses_train = []\n",
    "for i in range(50):\n",
    "    # losses_train.append(next_epoch(dataloader_train, True))\n",
    "    # losses_val.append(next_epoch(dataloader_val, False))\n",
    "    train_loss = next_epoch(dataloader_train, True)\n",
    "    val_loss = next_epoch(dataloader_val, False)\n",
    "    losses_train.append(train_loss)\n",
    "    losses_val.append(val_loss)\n",
    "    print(f\"train_loss: {train_loss} \\t val_loss: {val_loss}\")\n",
    "    "
   ]
  },
  {
   "cell_type": "code",
   "execution_count": 19,
   "id": "5147a795-cf2c-4d49-b7d7-c9b4bdea4b32",
   "metadata": {},
   "outputs": [
    {
     "data": {
      "text/plain": [
       "<matplotlib.legend.Legend at 0x7f9a745d4d10>"
      ]
     },
     "execution_count": 19,
     "metadata": {},
     "output_type": "execute_result"
    },
    {
     "data": {
      "image/png": "[encoded data removed]",
      "text/plain": [
       "<Figure size 640x480 with 1 Axes>"
      ]
     },
     "metadata": {},
     "output_type": "display_data"
    }
   ],
   "source": [
    "plt.plot(losses_train, label = \"Train\")\n",
    "plt.plot(losses_val, label = \"Val\")\n",
    "plt.legend()"
   ]
  },
  {
   "cell_type": "code",
   "execution_count": 4,
   "id": "0939fb33-9881-498b-be3f-f7c1d81569db",
   "metadata": {},
   "outputs": [],
   "source": [
    "test1 = load_parquet(\"/home/norman/vbf-tagger/vbf_tagger/data/22pre/hh_vbf/preprocessed_filtered/train/hh_vbf_hbb_htt_kv1_k2v0_kl1_madgraph_events_0.parquet\")"
   ]
  },
  {
   "cell_type": "code",
   "execution_count": 5,
   "id": "73753056-7d17-445a-aebd-0cf01f6fb8da",
   "metadata": {},
   "outputs": [
    {
     "data": {
      "text/html": [
       "<pre>[{btagDeepFlavB: [0.0715, ..., 0.00938], btagDeepFlavCvB: [...], ...},\n",
       " {btagDeepFlavB: [0.784, 0.425], btagDeepFlavCvB: [...], ...},\n",
       " {btagDeepFlavB: [0.304, 0.819, ..., 0.0611], btagDeepFlavCvB: [...], ...},\n",
       " {btagDeepFlavB: [0.99, 0.013, 0.0504], btagDeepFlavCvB: [...], ...},\n",
       " {btagDeepFlavB: [0.938, 0.0377, ..., 0.114], btagDeepFlavCvB: [...], ...},\n",
       " {btagDeepFlavB: [0.999, 0.0131, 0.0065], btagDeepFlavCvB: [...], ...},\n",
       " {btagDeepFlavB: [0.999, 0.107, ..., 0.0649], btagDeepFlavCvB: [...], ...},\n",
       " {btagDeepFlavB: [0.979, 0.965, ..., 0.0692], btagDeepFlavCvB: [...], ...},\n",
       " {btagDeepFlavB: [0.677, 0.957, 0.0875], btagDeepFlavCvB: [...], ...},\n",
       " {btagDeepFlavB: [0.0378, ..., 0.776], btagDeepFlavCvB: [...], ...},\n",
       " ...,\n",
       " {btagDeepFlavB: [0.999, 0.14, ..., 0.0692], btagDeepFlavCvB: [...], ...},\n",
       " {btagDeepFlavB: [0.0698, 1, ..., 0.813], btagDeepFlavCvB: [...], ...},\n",
       " {btagDeepFlavB: [0.002, 0.394, ..., 0.0462], btagDeepFlavCvB: [...], ...},\n",
       " {btagDeepFlavB: [0.0262, 0.0562, 0.227], btagDeepFlavCvB: [...], ...},\n",
       " {btagDeepFlavB: [0.0228, 0.985, ..., 0.0995], btagDeepFlavCvB: [...], ...},\n",
       " {btagDeepFlavB: [1, 0.815, ..., 0.0351], btagDeepFlavCvB: [...], ...},\n",
       " {btagDeepFlavB: [0.981, 0.999, 0.0271], btagDeepFlavCvB: [...], ...},\n",
       " {btagDeepFlavB: [0.976, 0.0165, ..., 0.0464], btagDeepFlavCvB: [...], ...},\n",
       " {btagDeepFlavB: [0.00434, 0.0024], btagDeepFlavCvB: [...], ...}]\n",
       "----------------------------------------------------------------------------\n",
       "backend: cpu\n",
       "nbytes: 11.5 MB\n",
       "type: 27912 * {\n",
       "    btagDeepFlavB: var * float32,\n",
       "    btagDeepFlavCvB: var * float32,\n",
       "    btagDeepFlavCvL: var * float32,\n",
       "    btagDeepFlavQG: var * float32,\n",
       "    btagPNetB: var * float32,\n",
       "    btagPNetCvB: var * float32,\n",
       "    btagPNetCvL: var * float32,\n",
       "    btagPNetCvNotB: var * float32,\n",
       "    btagPNetQvG: var * float32,\n",
       "    btagPNetTauVJet: var * float32,\n",
       "    ...\n",
       "}</pre>"
      ],
      "text/plain": [
       "<Array [{btagDeepFlavB: [...], ...}, ...] type='27912 * {btagDeepFlavB: var...'>"
      ]
     },
     "execution_count": 5,
     "metadata": {},
     "output_type": "execute_result"
    }
   ],
   "source": [
    "test1"
   ]
  },
  {
   "cell_type": "code",
   "execution_count": 6,
   "id": "7e43ccb1-026c-49c1-8894-1dcca07658cb",
   "metadata": {},
   "outputs": [
    {
     "data": {
      "text/html": [
       "<pre>[[220, 94.1, 42.7, 25.2, 23.7],\n",
       " [262, 235],\n",
       " [101, 67.3, 52.2, 26.5, 15.2, 16.6],\n",
       " [138, 122, 76.8],\n",
       " [208, 65.6, 56.4, 33.3, 25.3, 26.7, 13.1],\n",
       " [384, 187, 96],\n",
       " [157, 41.8, 24.8, 24.1],\n",
       " [245, 196, 114, 69.3, 10.2],\n",
       " [290, 74.2, 25.6],\n",
       " [185, 80.9, 73.1],\n",
       " ...,\n",
       " [355, 67.9, 15.2, 18.5],\n",
       " [75.1, 63.1, 54.1, 39.6],\n",
       " [140, 79.8, 47.6, 22.4, 15.2],\n",
       " [106, 37.3, 15],\n",
       " [122, 113, 59.8, 58.9, 48.3, 19.7],\n",
       " [332, 108, 62.5, 38.7],\n",
       " [420, 115, 77.6],\n",
       " [148, 69.3, 47.4, 37, 16.9],\n",
       " [116, 52.8]]\n",
       "-------------------------------------------\n",
       "backend: cpu\n",
       "nbytes: 668.4 kB\n",
       "type: 27912 * var * float32</pre>"
      ],
      "text/plain": [
       "<Array [[220, 94.1, 42.7, 25.2, 23.7], ..., [...]] type='27912 * var * float32'>"
      ]
     },
     "execution_count": 6,
     "metadata": {},
     "output_type": "execute_result"
    }
   ],
   "source": [
    "test1.pt"
   ]
  },
  {
   "cell_type": "code",
   "execution_count": 7,
   "id": "0b8b29f0-2b51-4c87-8117-f65a6056abec",
   "metadata": {},
   "outputs": [
    {
     "data": {
      "text/html": [
       "<pre>[[1, 0, 1, 0, 0],\n",
       " [0, 0],\n",
       " [0, 0, 0, 0, 0, 0],\n",
       " [0, 1, 1],\n",
       " [0, 1, 0, 0, 0, 0, 0],\n",
       " [0, 1, 1],\n",
       " [0, 1, 0, 0],\n",
       " [0, 0, 1, 1, 0],\n",
       " [0, 0, 1],\n",
       " [0, 1, 0],\n",
       " ...,\n",
       " [0, 0, 0, 0],\n",
       " [1, 0, 0, 0],\n",
       " [0, 0, 0, 0, 0],\n",
       " [1, 0, 0],\n",
       " [1, 0, 1, 0, 0, 0],\n",
       " [0, 0, 0, 1],\n",
       " [0, 0, 1],\n",
       " [0, 1, 0, 0, 0],\n",
       " [1, 0]]\n",
       "-----------------------\n",
       "backend: cpu\n",
       "nbytes: 1.1 MB\n",
       "type: 27912 * var * ?float64</pre>"
      ],
      "text/plain": [
       "<Array [[1, 0, 1, 0, 0], [0, ...], ..., [1, 0]] type='27912 * var * ?float64'>"
      ]
     },
     "execution_count": 7,
     "metadata": {},
     "output_type": "execute_result"
    }
   ],
   "source": [
    "test1.isVBF"
   ]
  },
  {
   "cell_type": "code",
   "execution_count": 8,
   "id": "2b0f9857-c2b3-4071-8ad7-34100b0ba051",
   "metadata": {},
   "outputs": [
    {
     "name": "stdout",
     "output_type": "stream",
     "text": [
      "[2, 0, 0, 2, 1, 2, 1, 2, 1, 1, 2, 2, 1, ..., 2, 1, 2, 0, 1, 0, 1, 2, 1, 1, 1, 1]\n"
     ]
    }
   ],
   "source": [
    "import awkward as ak\n",
    "import vector\n",
    "vector.register_awkward()\n",
    "\n",
    "jets = test1  # awkward array with per-jet info\n",
    "\n",
    "# Build 4-vectors\n",
    "jets_p4 = ak.zip({\n",
    "    \"pt\": jets.pt,\n",
    "    \"eta\": jets.eta,\n",
    "    \"phi\": jets.phi,\n",
    "    \"mass\": jets.mass,\n",
    "}, with_name=\"Momentum4D\")\n",
    "\n",
    "# Select only VBF jets\n",
    "vbf_jets = jets_p4[jets.isVBF == 1]\n",
    "\n",
    "# Make sure you have exactly 2 per event\n",
    "print(ak.num(vbf_jets))  # should be 2 everywhere if selection worked\n",
    "\n"
   ]
  },
  {
   "cell_type": "code",
   "execution_count": 9,
   "id": "065f015d-c752-4e88-84ff-289a84daa997",
   "metadata": {},
   "outputs": [
    {
     "name": "stdout",
     "output_type": "stream",
     "text": [
      "[1/7] Loading from /home/norman/samples/hh_vbf/hh_vbf_hbb_htt_kv1_k2v0_kl1_madgraph_events_0.parquet\n",
      "[2/7] Loading from /home/norman/samples/hh_vbf/hh_vbf_hbb_htt_kv1_k2v2_kl1_madgraph_events_0.parquet\n",
      "[3/7] Loading from /home/norman/samples/hh_vbf/hh_vbf_hbb_htt_kv1_k2v0_kl1_madgraph_events_1.parquet\n",
      "[4/7] Loading from /home/norman/samples/hh_vbf/hh_vbf_hbb_htt_kv1_k2v1_kl2_madgraph_events_0.parquet\n",
      "[5/7] Loading from /home/norman/samples/hh_vbf/hh_vbf_hbb_htt_kv1_k2v0_kl1_madgraph_events_2.parquet\n",
      "[6/7] Loading from /home/norman/samples/hh_vbf/hh_vbf_hbb_htt_kv1_k2v1_kl1_madgraph_events_1.parquet\n",
      "[7/7] Loading from /home/norman/samples/hh_vbf/hh_vbf_hbb_htt_kv1_k2v1_kl1_madgraph_events_0.parquet\n",
      "Input data loaded\n"
     ]
    }
   ],
   "source": [
    "vbfhh = load_all_data(\"/home/norman/samples/hh_vbf/\")"
   ]
  },
  {
   "cell_type": "code",
   "execution_count": 10,
   "id": "22da0da3-e24b-4436-8583-649a84ff9be5",
   "metadata": {},
   "outputs": [],
   "source": [
    "trainingjets = vbfhh.TrainingJet"
   ]
  },
  {
   "cell_type": "code",
   "execution_count": 11,
   "id": "0405d8d0-71a9-4ea9-acac-d104a18b1091",
   "metadata": {},
   "outputs": [
    {
     "data": {
      "text/html": [
       "<pre>[{btagDeepFlavB: 0.728, btagDeepFlavCvB: 0.175, btagDeepFlavCvL: 0.568, ...},\n",
       " {btagDeepFlavB: 0.0223, btagDeepFlavCvB: 0.722, btagDeepFlavCvL: 0.0594, ...},\n",
       " {btagDeepFlavB: 0.579, btagDeepFlavCvB: 0.242, btagDeepFlavCvL: 0.439, ...},\n",
       " {btagDeepFlavB: 0.0207, btagDeepFlavCvB: 0.737, btagDeepFlavCvL: 0.0592, ...},\n",
       " {btagDeepFlavB: 0.00678, btagDeepFlavCvB: 0.858, btagDeepFlavCvL: 0.0414, ...}]\n",
       "--------------------------------------------------------------------------------\n",
       "backend: cpu\n",
       "nbytes: 350 B\n",
       "type: 5 * {\n",
       "    btagDeepFlavB: float32,\n",
       "    btagDeepFlavCvB: float32,\n",
       "    btagDeepFlavCvL: float32,\n",
       "    btagDeepFlavQG: float32,\n",
       "    btagPNetB: float32,\n",
       "    btagPNetCvB: float32,\n",
       "    btagPNetCvL: float32,\n",
       "    btagPNetCvNotB: float32,\n",
       "    btagPNetQvG: float32,\n",
       "    btagPNetTauVJet: float32,\n",
       "    ...\n",
       "}</pre>"
      ],
      "text/plain": [
       "<Array [{btagDeepFlavB: 0.728, ...}, ...] type='5 * {btagDeepFlavB: float32...'>"
      ]
     },
     "execution_count": 11,
     "metadata": {},
     "output_type": "execute_result"
    }
   ],
   "source": [
    "trainingjets[0]"
   ]
  },
  {
   "cell_type": "code",
   "execution_count": 12,
   "id": "ab6cfe75-d7dd-4090-b225-3bac14b45e27",
   "metadata": {},
   "outputs": [
    {
     "data": {
      "text/html": [
       "<pre>[[0, 1, 0, 1, 0],\n",
       " [0, 0, 1],\n",
       " [1, 0, 0, 0],\n",
       " [0, 0, 0, 0],\n",
       " [0, 0, 1, 1],\n",
       " [0, 0],\n",
       " [0, 1, 0, 1],\n",
       " [0, 1, 0, 1, 0],\n",
       " [0, 0, 0, 1],\n",
       " [0, 1, 0, 1, 0],\n",
       " ...,\n",
       " [0, 1, 0, 0],\n",
       " [1, 1, 0, 0],\n",
       " [1, 0, 1],\n",
       " [0, 1, 0],\n",
       " [0, 1, 0, 1, 0, 0],\n",
       " [0, 0, 1],\n",
       " [1, 1, 0, 0],\n",
       " [1, 0, 0, 1],\n",
       " [1, 1, 0]]\n",
       "--------------------\n",
       "backend: cpu\n",
       "nbytes: 9.1 MB\n",
       "type: 203006 * var * ?float64</pre>"
      ],
      "text/plain": [
       "<Array [[0, 1, 0, 1, 0], [...], ..., [1, 1, 0]] type='203006 * var * ?float64'>"
      ]
     },
     "execution_count": 12,
     "metadata": {},
     "output_type": "execute_result"
    }
   ],
   "source": [
    "trainingjets.isVBF"
   ]
  },
  {
   "cell_type": "code",
   "execution_count": 13,
   "id": "27645aa5-13a2-41d2-b06e-ad23b7fdb4f9",
   "metadata": {},
   "outputs": [
    {
     "data": {
      "text/html": [
       "<pre>[29.8,\n",
       " 14.9]\n",
       "------\n",
       "backend: cpu\n",
       "nbytes: 8 B\n",
       "type: 2 * float32</pre>"
      ],
      "text/plain": [
       "<Array [29.8, 14.9] type='2 * float32'>"
      ]
     },
     "execution_count": 13,
     "metadata": {},
     "output_type": "execute_result"
    }
   ],
   "source": [
    "trainingjets.mass[5]"
   ]
  },
  {
   "cell_type": "code",
   "execution_count": 14,
   "id": "8531fd1e-ee72-4a20-a4e7-fea69abdaa78",
   "metadata": {},
   "outputs": [
    {
     "data": {
      "text/plain": [
       "(<Array [0, 2, 3, 4, ..., 202998, 203001, 203003, 203004] type='132123 * int64'>,)"
      ]
     },
     "execution_count": 14,
     "metadata": {},
     "output_type": "execute_result"
    }
   ],
   "source": [
    "ak.where(ak.num(trainingjets, axis=1)>3)"
   ]
  },
  {
   "cell_type": "code",
   "execution_count": 15,
   "id": "19e863bd-f640-4856-a484-e85e385a1c6a",
   "metadata": {},
   "outputs": [
    {
     "data": {
      "text/html": [
       "<pre>[[{btagDeepFlavB: 0.728, btagDeepFlavCvB: 0.175, ...}, {...}, ..., {...}],\n",
       " [],\n",
       " [{btagDeepFlavB: 0.239, btagDeepFlavCvB: 0.699, ...}, {...}, ..., {...}],\n",
       " [{btagDeepFlavB: 0.999, btagDeepFlavCvB: 0.00114, ...}, {...}, ..., {...}],\n",
       " [{btagDeepFlavB: 0.56, btagDeepFlavCvB: 0.195, ...}, {...}, {...}, {...}],\n",
       " [],\n",
       " [{btagDeepFlavB: 0.987, btagDeepFlavCvB: 0.00955, ...}, {...}, ..., {...}],\n",
       " [{btagDeepFlavB: 0.849, btagDeepFlavCvB: 0.149, ...}, {...}, ..., {...}],\n",
       " [{btagDeepFlavB: 0.982, btagDeepFlavCvB: 0.0171, ...}, {...}, ..., {...}],\n",
       " [{btagDeepFlavB: 0.996, btagDeepFlavCvB: 0.00389, ...}, {...}, ..., {...}],\n",
       " ...,\n",
       " [{btagDeepFlavB: 1, btagDeepFlavCvB: 0.000147, ...}, {...}, {...}, {...}],\n",
       " [{btagDeepFlavB: 0.0817, btagDeepFlavCvB: 0.68, ...}, {...}, ..., {...}],\n",
       " [],\n",
       " [],\n",
       " [{btagDeepFlavB: 0.997, btagDeepFlavCvB: 0.00321, ...}, {...}, ..., {...}],\n",
       " [],\n",
       " [{btagDeepFlavB: 0.019, btagDeepFlavCvB: 0.82, ...}, {...}, {...}, {...}],\n",
       " [{btagDeepFlavB: 0.0203, btagDeepFlavCvB: 0.764, ...}, {...}, ..., {...}],\n",
       " []]\n",
       "----------------------------------------------------------------------------\n",
       "backend: cpu\n",
       "nbytes: 61.3 MB\n",
       "type: 203006 * var * {\n",
       "    btagDeepFlavB: float32,\n",
       "    btagDeepFlavCvB: float32,\n",
       "    btagDeepFlavCvL: float32,\n",
       "    btagDeepFlavQG: float32,\n",
       "    btagPNetB: float32,\n",
       "    btagPNetCvB: float32,\n",
       "    btagPNetCvL: float32,\n",
       "    btagPNetCvNotB: float32,\n",
       "    btagPNetQvG: float32,\n",
       "    btagPNetTauVJet: float32,\n",
       "    ...\n",
       "}</pre>"
      ],
      "text/plain": [
       "<Array [[{btagDeepFlavB: ..., ...}, ...], ...] type='203006 * var * {btagDe...'>"
      ]
     },
     "execution_count": 15,
     "metadata": {},
     "output_type": "execute_result"
    }
   ],
   "source": [
    "ak.where(ak.num(trainingjets, axis=1)>3, trainingjets, ak.Array([[]] * len(trainingjets)))"
   ]
  },
  {
   "cell_type": "code",
   "execution_count": 16,
   "id": "56e5e4ce-50b6-4569-b69f-6b2d79a6200f",
   "metadata": {},
   "outputs": [
    {
     "data": {
      "text/plain": [
       "np.int64(14)"
      ]
     },
     "execution_count": 16,
     "metadata": {},
     "output_type": "execute_result"
    }
   ],
   "source": [
    "max(ak.num(vbfhh.TrainingJet.isVBF, axis=-1))"
   ]
  },
  {
   "cell_type": "code",
   "execution_count": 17,
   "id": "5dd1af6e-f168-45b9-b817-303c40ae0edd",
   "metadata": {},
   "outputs": [
    {
     "data": {
      "text/plain": [
       "np.int64(91)"
      ]
     },
     "execution_count": 17,
     "metadata": {},
     "output_type": "execute_result"
    }
   ],
   "source": [
    "max(ak.num(ak.combinations(vbfhh.TrainingJet, 2), axis=-1))"
   ]
  },
  {
   "cell_type": "code",
   "execution_count": 18,
   "id": "b79b82a5-2c18-4ea5-b07d-6f180ac55a00",
   "metadata": {},
   "outputs": [
    {
     "data": {
      "text/html": [
       "<pre>[[({btagDeepFlavB: 0.728, ...}, {...}), ({...}, ..., ...), ..., ({...}, {...})],\n",
       " [({btagDeepFlavB: 0.635, ...}, {...}), ({...}, ..., ...), ({...}, {...})],\n",
       " [({btagDeepFlavB: 0.239, ...}, {...}), ({...}, ..., ...), ..., ({...}, {...})],\n",
       " [({btagDeepFlavB: 0.999, ...}, {...}), ({...}, ..., ...), ..., ({...}, {...})],\n",
       " [({btagDeepFlavB: 0.56, ...}, {...}), ({...}, ..., ...), ..., ({...}, {...})],\n",
       " [({btagDeepFlavB: 0.979, ...}, {...})],\n",
       " [({btagDeepFlavB: 0.987, ...}, {...}), ({...}, ..., ...), ..., ({...}, {...})],\n",
       " [({btagDeepFlavB: 0.849, ...}, {...}), ({...}, ..., ...), ..., ({...}, {...})],\n",
       " [({btagDeepFlavB: 0.982, ...}, {...}), ({...}, ..., ...), ..., ({...}, {...})],\n",
       " [({btagDeepFlavB: 0.996, ...}, {...}), ({...}, ..., ...), ..., ({...}, {...})],\n",
       " ...,\n",
       " [({btagDeepFlavB: 1, ...}, {...}), ({...}, {...}), ..., (...), ({...}, {...})],\n",
       " [({btagDeepFlavB: 0.0817, ...}, {...}), ({...}, ...), ..., ({...}, {...})],\n",
       " [({btagDeepFlavB: 0.0071, ...}, {...}), ({...}, ...), ({...}, {...})],\n",
       " [({btagDeepFlavB: 1, ...}, {...}), ({...}, {...}), ({...}, {...})],\n",
       " [({btagDeepFlavB: 0.997, ...}, {...}), ({...}, ..., ...), ..., ({...}, {...})],\n",
       " [({btagDeepFlavB: 1, ...}, {...}), ({...}, {...}), ({...}, {...})],\n",
       " [({btagDeepFlavB: 0.019, ...}, {...}), ({...}, ..., ...), ..., ({...}, {...})],\n",
       " [({btagDeepFlavB: 0.0203, ...}, {...}), ({...}, ...), ..., ({...}, {...})],\n",
       " [({btagDeepFlavB: 0.00847, ...}, {...}), ({...}, ...), ({...}, {...})]]\n",
       "--------------------------------------------------------------------------------\n",
       "backend: cpu\n",
       "nbytes: 141.1 MB\n",
       "type: 203006 * var * (\n",
       "    {\n",
       "        btagDeepFlavB: float32,\n",
       "        btagDeepFlavCvB: float32,\n",
       "        btagDeepFlavCvL: float32,\n",
       "        btagDeepFlavQG: float32,\n",
       "        btagPNetB: float32,\n",
       "        btagPNetCvB: float32,\n",
       "        btagPNetCvL: float32,\n",
       "        btagPNetCvNotB: float32,\n",
       "        btagPNetQvG: float32,\n",
       "    ...\n",
       ")</pre>"
      ],
      "text/plain": [
       "<Array [[({...}, {...}), ..., (..., ...)], ...] type='203006 * var * ({btag...'>"
      ]
     },
     "execution_count": 18,
     "metadata": {},
     "output_type": "execute_result"
    }
   ],
   "source": [
    "ak.combinations(vbfhh.TrainingJet, 2)"
   ]
  },
  {
   "cell_type": "code",
   "execution_count": 293,
   "id": "bf32a5fb-f1f0-4e2a-a22f-b14464ed9dfb",
   "metadata": {},
   "outputs": [],
   "source": [
    "vector.register_awkward()\n",
    "def stack_and_pad_features(cand_features, max_cands):\n",
    "    cand_features_tensors = np.stack([ak.pad_none(cand_features[feat], max_cands, clip=True) for feat in cand_features.fields], axis=-1)\n",
    "    cand_features_tensors = ak.to_numpy(ak.fill_none(cand_features_tensors, 0))\n",
    "    # Swapping the axes such that it has the shape of (nJets, nFeatures, nParticles)\n",
    "    cand_features_tensors = np.swapaxes(cand_features_tensors, 1, 2)\n",
    "\n",
    "    cand_features_tensors[np.isnan(cand_features_tensors)] = 0\n",
    "    cand_features_tensors[np.isinf(cand_features_tensors)] = 0\n",
    "    return cand_features_tensors\n",
    "\n",
    "\n",
    "def load_row_groups(filename):\n",
    "    metadata = ak.metadata_from_parquet(filename)\n",
    "    num_row_groups = metadata[\"num_row_groups\"]\n",
    "    col_counts = metadata[\"col_counts\"]\n",
    "    return [RowGroup(filename, row_group, col_counts[row_group]) for row_group in range(num_row_groups)]\n",
    "\n",
    "\n",
    "class RowGroup:\n",
    "    def __init__(self, filename, row_group, num_rows):\n",
    "        self.filename = filename\n",
    "        self.row_group = row_group\n",
    "        self.num_rows = num_rows\n",
    "\n",
    "\n",
    "def initialize_p4(data):\n",
    "    return ak.zip(\n",
    "            {\n",
    "                \"pt\": data.pt,\n",
    "                \"eta\": data.eta,\n",
    "                \"phi\": data.phi,\n",
    "                \"mass\": data.mass,\n",
    "            },\n",
    "            with_name=\"Momentum4D\"\n",
    "        )\n",
    "\n",
    "def initialize_p42(data):\n",
    "    return vector.awk(\n",
    "            ak.zip(\n",
    "                {\n",
    "                    \"mass\": data.mass,\n",
    "                    \"eta\": data.eta,\n",
    "                    \"phi\": data.phi,\n",
    "                    \"pt\": data.pt,\n",
    "                }\n",
    "            )\n",
    "            )"
   ]
  },
  {
   "cell_type": "code",
   "execution_count": 416,
   "id": "28e6e8f1-3526-4ec4-8c09-efa5b0483b9e",
   "metadata": {},
   "outputs": [],
   "source": [
    "jets0 = initialize_p4(vbfhh.TrainingJet)\n",
    "# jets02 = initialize_p42(vbfhh.TrainingJet)"
   ]
  },
  {
   "cell_type": "code",
   "execution_count": 417,
   "id": "84d35256-fb35-4d11-a68b-1f57711426c3",
   "metadata": {},
   "outputs": [],
   "source": [
    "mask_valid = ak.num(jets0) > 3\n",
    "isVBF = vbfhh.TrainingJet.isVBF[mask_valid]"
   ]
  },
  {
   "cell_type": "code",
   "execution_count": 418,
   "id": "6fbb391d-4881-4786-ad56-252cee9a38fe",
   "metadata": {},
   "outputs": [],
   "source": [
    "jets = jets0[mask_valid]"
   ]
  },
  {
   "cell_type": "code",
   "execution_count": 424,
   "id": "1325dfb5-5e82-4a73-ba87-27411d7e66fa",
   "metadata": {},
   "outputs": [],
   "source": [
    "jets_novec = vbfhh.TrainingJet[mask_valid]"
   ]
  },
  {
   "cell_type": "code",
   "execution_count": 426,
   "id": "2b20fa52-8e27-48c7-9f11-787d724c7fd3",
   "metadata": {},
   "outputs": [],
   "source": [
    "pairs_novec = ak.combinations(jets_novec, 2, fields=[\"j1\", \"j2\"])"
   ]
  },
  {
   "cell_type": "code",
   "execution_count": 394,
   "id": "cbb1f3b6-57a0-4a29-858b-f7fafe002333",
   "metadata": {},
   "outputs": [],
   "source": [
    "pairs = ak.combinations(jets, 2, fields=[\"j1\", \"j2\"])\n",
    "pairs_isVBF = ak.combinations(isVBF, 2, fields=[\"j1\", \"j2\"])"
   ]
  },
  {
   "cell_type": "code",
   "execution_count": 395,
   "id": "424baeaf-2afe-4a80-a0fb-d2ff1c0b5a9e",
   "metadata": {},
   "outputs": [],
   "source": [
    "mjj = (pairs.j1 + pairs.j2).mass\n",
    "deta = abs(pairs.j1.eta - pairs.j2.eta)\n",
    "dphi = abs(pairs.j1.phi - pairs.j2.phi)\n",
    "ptjj = (pairs.j1 + pairs.j2).pt\n",
    "dRjj = pairs.j1.deltaR(pairs.j2)"
   ]
  },
  {
   "cell_type": "code",
   "execution_count": 396,
   "id": "cbc41895-01b5-46f8-b9f0-ad3a20584963",
   "metadata": {},
   "outputs": [],
   "source": [
    "etaetajj = pairs.j1.eta * pairs.j2.eta\n",
    "# etaetajj = abs(pairs.j1.eta * pairs.j2.eta)\n",
    "\n",
    "denergyjj = abs(pairs.j1.energy - pairs.j2.energy)\n",
    "\n",
    "ejj = (pairs.j1 + pairs.j2).energy\n",
    "e_mjj = ejj/mjj\n",
    "\n",
    "event_energy = ak.sum(jets.energy, axis=1)\n",
    "event_energy_per_pair, _ = ak.broadcast_arrays(event_energy, pairs)\n",
    "\n",
    "event_pt = ak.sum(jets.pt, axis=1)\n",
    "event_pt_per_pair, _ = ak.broadcast_arrays(event_pt, pairs)\n",
    "\n",
    "higher_pt_mask = abs(pairs.j1.pt) > abs(pairs.j2.pt)\n",
    "max_pt_pair = ak.where(higher_pt_mask, pairs.j1.pt, pairs.j2.pt)\n",
    "min_pt_pair = ak.where(higher_pt_mask, pairs.j2.pt, pairs.j1.pt)"
   ]
  },
  {
   "cell_type": "code",
   "execution_count": 406,
   "id": "2b5fa3cb-f4ba-48d4-af2f-f4f959e65b7e",
   "metadata": {},
   "outputs": [],
   "source": [
    "PuppiMET_covXY = vbfhh.PuppiMET.covXY[mask_valid]\n",
    "PuppiMET_pt = vbfhh.PuppiMET.pt[mask_valid]\n",
    "PuppiMET_covXY_per_pair, _ = ak.broadcast_arrays(PuppiMET_covXY, pairs)\n",
    "PuppiMET_pt_per_pair, _ = ak.broadcast_arrays(PuppiMET_pt, pairs)"
   ]
  },
  {
   "cell_type": "code",
   "execution_count": 428,
   "id": "87cb61c9-541b-45cd-94a2-71066e7847e5",
   "metadata": {},
   "outputs": [],
   "source": [
    "btagDeepFlavB_sum = (pairs2.j1.btagDeepFlavB + pairs2.j2.btagDeepFlavB)\n",
    "btagDeepFlavCvB_sum = (pairs2.j1.btagDeepFlavCvB + pairs2.j2.btagDeepFlavCvB)\n",
    "btagDeepFlavCvL_sum = (pairs2.j1.btagDeepFlavCvL + pairs2.j2.btagDeepFlavCvL)\n",
    "btagDeepFlavQG_sum = (pairs2.j1.btagDeepFlavQG + pairs2.j2.btagDeepFlavQG)\n",
    "btagPNetB_sum = (pairs2.j1.btagPNetB + pairs2.j2.btagPNetB)\n",
    "btagPNetCvB_sum = (pairs2.j1.btagPNetCvB + pairs2.j2.btagPNetCvB)\n",
    "btagPNetCvL_sum = (pairs2.j1.btagPNetCvL + pairs2.j2.btagPNetCvL)\n",
    "btagPNetCvNotB_sum = (pairs2.j1.btagPNetCvNotB + pairs2.j2.btagPNetCvNotB)\n",
    "btagPNetQvG_sum = (pairs2.j1.btagPNetQvG + pairs2.j2.btagPNetQvG)\n",
    "btagPNetTauVJet_sum = (pairs2.j1.btagPNetTauVJet + pairs2.j2.btagPNetTauVJet)\n",
    "hhbtag_sum = (pairs2.j1.hhbtag + pairs2.j2.hhbtag)"
   ]
  },
  {
   "cell_type": "code",
   "execution_count": 429,
   "id": "c091e815-d21f-476a-a8cf-5bea654f3291",
   "metadata": {},
   "outputs": [],
   "source": [
    "btagDeepFlavB_sum22 = (pairs_novec.j1.btagDeepFlavB + pairs_novec.j2.btagDeepFlavB)\n"
   ]
  },
  {
   "cell_type": "code",
   "execution_count": 430,
   "id": "c4f5698a-346d-4c38-a862-2bbafcb2b240",
   "metadata": {},
   "outputs": [
    {
     "data": {
      "text/html": [
       "<pre>[[0.75, 1.31, 0.749, 0.735, 0.601, 0.043, 0.0291, 0.6, 0.586, 0.0275],\n",
       " [0.983, 0.262, 0.315, 0.768, 0.82, 0.0999],\n",
       " [1.97, 1.04, 1, 1.02, 0.979, 0.0473],\n",
       " [1.56, 0.584, 0.562, 1.02, 1, 0.0265],\n",
       " [1.02, 1.96, 1.04, 1.01, 0.0845, 1.03],\n",
       " [0.869, 1.7, 0.893, 0.855, 0.869, 0.064, 0.0262, 0.893, 0.855, 0.0495],\n",
       " [1, 1.98, 0.991, 1.02, 0.0291, 1.01],\n",
       " [1.01, 1.99, 1.01, 1.05, 1.02, 0.037, 0.0717, 1.02, 1.05, 0.073],\n",
       " [1.1, 0.87, 0.869, 0.267, 0.266, 0.0392],\n",
       " [1.88, 1.27, 1.09, 1.27, 1.09, 0.478],\n",
       " ...,\n",
       " [1, 0.457, 0.0718, 1.44, 1.06, 0.511],\n",
       " [0.981, 0.0534, 1.03, 0.116, 0.965, 1.94, 1.03, 1.02, 0.0997, 1.08],\n",
       " [0.841, 0.0762, 1.01, 0.0278, 0.885, 1.82, 0.837, 1.06, 0.0721, 1.01],\n",
       " [0.0375, 1.01, 1.02, 0.06, 1, 1.01, 0.0547, 1.98, 1.02, 1.03],\n",
       " [1.01, 1.99, 1.08, 1.01, 0.0994, 1.08],\n",
       " [0.111, 1.08, 0.129, 1.03, 0.0766, 1.04],\n",
       " [1.03, 1.04, 1.04, 1.03, 1.11, ..., 0.0706, 0.152, 0.0769, 0.158, 0.146],\n",
       " [0.0321, 0.146, 1.02, 0.14, 1.01, 1.13],\n",
       " [0.911, 0.123, 0.0833, 0.994, 0.954, 0.166]]\n",
       "--------------------------------------------------------------------------\n",
       "backend: cpu\n",
       "nbytes: 6.1 MB\n",
       "type: 132123 * var * float32</pre>"
      ],
      "text/plain": [
       "<Array [[0.75, 1.31, ..., 0.586, 0.0275], ...] type='132123 * var * float32'>"
      ]
     },
     "execution_count": 430,
     "metadata": {},
     "output_type": "execute_result"
    }
   ],
   "source": [
    "btagDeepFlavB_sum"
   ]
  },
  {
   "cell_type": "code",
   "execution_count": 431,
   "id": "02432dc5-6655-4096-829f-a2443106f3ca",
   "metadata": {},
   "outputs": [
    {
     "data": {
      "text/html": [
       "<pre>[[0.75, 1.31, 0.749, 0.735, 0.601, 0.043, 0.0291, 0.6, 0.586, 0.0275],\n",
       " [0.983, 0.262, 0.315, 0.768, 0.82, 0.0999],\n",
       " [1.97, 1.04, 1, 1.02, 0.979, 0.0473],\n",
       " [1.56, 0.584, 0.562, 1.02, 1, 0.0265],\n",
       " [1.02, 1.96, 1.04, 1.01, 0.0845, 1.03],\n",
       " [0.869, 1.7, 0.893, 0.855, 0.869, 0.064, 0.0262, 0.893, 0.855, 0.0495],\n",
       " [1, 1.98, 0.991, 1.02, 0.0291, 1.01],\n",
       " [1.01, 1.99, 1.01, 1.05, 1.02, 0.037, 0.0717, 1.02, 1.05, 0.073],\n",
       " [1.1, 0.87, 0.869, 0.267, 0.266, 0.0392],\n",
       " [1.88, 1.27, 1.09, 1.27, 1.09, 0.478],\n",
       " ...,\n",
       " [1, 0.457, 0.0718, 1.44, 1.06, 0.511],\n",
       " [0.981, 0.0534, 1.03, 0.116, 0.965, 1.94, 1.03, 1.02, 0.0997, 1.08],\n",
       " [0.841, 0.0762, 1.01, 0.0278, 0.885, 1.82, 0.837, 1.06, 0.0721, 1.01],\n",
       " [0.0375, 1.01, 1.02, 0.06, 1, 1.01, 0.0547, 1.98, 1.02, 1.03],\n",
       " [1.01, 1.99, 1.08, 1.01, 0.0994, 1.08],\n",
       " [0.111, 1.08, 0.129, 1.03, 0.0766, 1.04],\n",
       " [1.03, 1.04, 1.04, 1.03, 1.11, ..., 0.0706, 0.152, 0.0769, 0.158, 0.146],\n",
       " [0.0321, 0.146, 1.02, 0.14, 1.01, 1.13],\n",
       " [0.911, 0.123, 0.0833, 0.994, 0.954, 0.166]]\n",
       "--------------------------------------------------------------------------\n",
       "backend: cpu\n",
       "nbytes: 6.1 MB\n",
       "type: 132123 * var * float32</pre>"
      ],
      "text/plain": [
       "<Array [[0.75, 1.31, ..., 0.586, 0.0275], ...] type='132123 * var * float32'>"
      ]
     },
     "execution_count": 431,
     "metadata": {},
     "output_type": "execute_result"
    }
   ],
   "source": [
    "btagDeepFlavB_sum22"
   ]
  },
  {
   "cell_type": "code",
   "execution_count": 302,
   "id": "e664fae3-6b33-4847-93b1-5c04da740533",
   "metadata": {},
   "outputs": [],
   "source": [
    "cand_features = ak.Array({\n",
    "    \"mjj\": mjj,\n",
    "    \"ptjj\": ptjj,\n",
    "    \"deta\": deta,\n",
    "    \"dphi\": dphi,\n",
    "    \"btagDeepFlavB_sum\": btagDeepFlavB_sum,\n",
    "    \"btagDeepFlavCvB_sum\": btagDeepFlavCvB_sum,\n",
    "    \"btagDeepFlavCvL_sum\": btagDeepFlavCvL_sum,\n",
    "    \"btagDeepFlavQG_sum\": btagDeepFlavQG_sum,\n",
    "    \"btagPNetB_sum\": btagPNetB_sum,\n",
    "    \"btagPNetCvB_sum\": btagPNetCvB_sum,\n",
    "    \"btagPNetCvL_sum\": btagPNetCvL_sum,\n",
    "    \"btagPNetCvNotB_sum\": btagPNetCvNotB_sum,\n",
    "    \"btagPNetQvG_sum\": btagPNetQvG_sum,\n",
    "    \"btagPNetTauVJet_sum\": btagPNetTauVJet_sum,\n",
    "    \"hhbtag_sum\": hhbtag_sum,\n",
    "    \"PuppiMET_covXY_per_pair\": PuppiMET_covXY_per_pair,\n",
    "    \"PuppiMET_pt_per_pair\": PuppiMET_pt_per_pair,   \n",
    "    \"event_energy_per_pair\": event_energy_per_pair,\n",
    "    \"event_pt_per_pair\": event_pt_per_pair,\n",
    "    \"e_mjj\": e_mjj,\n",
    "    \"dRjj\": dRjj,\n",
    "    \"etaetajj\": etaetajj,\n",
    "    \"denergyjj\": denergyjj,\n",
    "    \"max_pt_pair\": max_pt_pair,\n",
    "    \"min_pt_pair\": min_pt_pair,\n",
    "   \n",
    "})"
   ]
  },
  {
   "cell_type": "code",
   "execution_count": 303,
   "id": "867cfe2c-fe62-440d-ba8a-34f71129246c",
   "metadata": {},
   "outputs": [],
   "source": [
    "cand_features = ak.pad_none(cand_features, 45, clip=True)\n",
    "cand_features = ak.fill_none(cand_features, 0)"
   ]
  },
  {
   "cell_type": "code",
   "execution_count": 318,
   "id": "f015757f-811a-470a-82ef-60c60d34f566",
   "metadata": {},
   "outputs": [],
   "source": [
    "cand_features_tensors = stack_and_pad_features(cand_features, 45)"
   ]
  },
  {
   "cell_type": "code",
   "execution_count": 435,
   "id": "dfc93af9-6bb3-4b73-b824-d2ac593ce13b",
   "metadata": {},
   "outputs": [],
   "source": [
    "targets9 = (pairs_isVBF.j1==1) & (pairs_isVBF.j2==1)"
   ]
  },
  {
   "cell_type": "code",
   "execution_count": 436,
   "id": "e318d008-bfc1-43e9-b154-733845f065a6",
   "metadata": {},
   "outputs": [
    {
     "data": {
      "text/html": [
       "<pre>[[False, False, False, False, False, True, False, False, False, False],\n",
       " [False, False, False, False, False, False],\n",
       " [False, False, False, False, False, False],\n",
       " [False, False, False, False, False, True],\n",
       " [False, False, False, False, True, False],\n",
       " [False, False, False, False, False, True, False, False, False, False],\n",
       " [False, False, False, False, False, False],\n",
       " [False, False, False, False, False, True, False, False, False, False],\n",
       " [False, False, False, False, False, False],\n",
       " [False, False, False, False, False, False],\n",
       " ...,\n",
       " [False, False, False, False, False, False],\n",
       " [False, True, False, False, False, False, False, False, False, False],\n",
       " [False, True, False, False, False, False, False, False, False, False],\n",
       " [False, False, False, False, False, False, False, False, False, False],\n",
       " [False, False, False, False, False, False],\n",
       " [True, False, False, False, False, False],\n",
       " [False, False, False, False, False, ..., False, False, False, False, False],\n",
       " [True, False, False, False, False, False],\n",
       " [False, False, True, False, False, False]]\n",
       "-----------------------------------------------------------------------------\n",
       "backend: cpu\n",
       "nbytes: 12.5 MB\n",
       "type: 132123 * var * ?bool</pre>"
      ],
      "text/plain": [
       "<Array [[False, False, ..., False, False], ...] type='132123 * var * ?bool'>"
      ]
     },
     "execution_count": 436,
     "metadata": {},
     "output_type": "execute_result"
    }
   ],
   "source": [
    "targets9"
   ]
  },
  {
   "cell_type": "code",
   "execution_count": 437,
   "id": "36b9d429-7596-42bc-8d2c-cdbf2ad222f5",
   "metadata": {},
   "outputs": [],
   "source": [
    "targets9pad = ak.pad_none(targets9, 45, clip=True)\n",
    "real_targets9 = ak.to_numpy(~ak.is_none(targets9pad, axis=-1))\n",
    "targets9fin = ak.fill_none(targets9pad, 0)"
   ]
  },
  {
   "cell_type": "code",
   "execution_count": 461,
   "id": "55921cec-7df7-4a1f-85af-b984461b69ed",
   "metadata": {},
   "outputs": [],
   "source": [
    "cand_features_tensors = torch.tensor(cand_features_tensors, dtype=torch.float32)\n",
    "targets_tensor = torch.tensor(ak.to_numpy(targets9fin), dtype=torch.float32)\n",
    "mask_tensor = torch.tensor(real_targets9, dtype=torch.bool)"
   ]
  },
  {
   "cell_type": "code",
   "execution_count": 336,
   "id": "71226032-41d5-4061-bfe3-6d0f6070ac52",
   "metadata": {},
   "outputs": [],
   "source": [
    "pair_p4 = pairs.j1 + pairs.j2 \n",
    "cand_kinematics = ak.Array({\n",
    "    \"cand_px\": pair_p4.px,\n",
    "    \"cand_py\": pair_p4.py,\n",
    "    \"cand_pz\": pair_p4.pz,\n",
    "    \"cand_en\": pair_p4.energy,\n",
    "})\n",
    "\n",
    "cand_kinematics = ak.pad_none(cand_kinematics, 45, clip=True)\n",
    "cand_kinematics = ak.fill_none(cand_kinematics, 0)\n",
    "\n",
    "cand_kinematics_tensors = stack_and_pad_features(cand_kinematics, 45)\n",
    "cand_kinematics_tensors = torch.tensor(cand_kinematics_tensors, dtype=torch.float32)"
   ]
  },
  {
   "cell_type": "code",
   "execution_count": 471,
   "id": "d66817cb-9c02-440a-bf40-e50e86e8a33c",
   "metadata": {},
   "outputs": [],
   "source": [
    "mask_tensor22 = torch.tensor(real_targets9, dtype=torch.bool).unsqueeze(1)"
   ]
  },
  {
   "cell_type": "code",
   "execution_count": 472,
   "id": "95f4d1ff-1d10-42f4-83bc-ed525ab06400",
   "metadata": {},
   "outputs": [
    {
     "data": {
      "text/plain": [
       "torch.Size([132123, 45])"
      ]
     },
     "execution_count": 472,
     "metadata": {},
     "output_type": "execute_result"
    }
   ],
   "source": [
    "mask_tensor.shape"
   ]
  },
  {
   "cell_type": "code",
   "execution_count": 473,
   "id": "87df5b74-9fd9-4e43-893a-1c92d9ec21f7",
   "metadata": {},
   "outputs": [
    {
     "data": {
      "text/plain": [
       "torch.Size([132123, 1, 45])"
      ]
     },
     "execution_count": 473,
     "metadata": {},
     "output_type": "execute_result"
    }
   ],
   "source": [
    "mask_tensor22.shape"
   ]
  },
  {
   "cell_type": "code",
   "execution_count": 466,
   "id": "c45c1d96-fa4f-453b-819c-867e59d78398",
   "metadata": {},
   "outputs": [
    {
     "name": "stdout",
     "output_type": "stream",
     "text": [
      "cand_features_tensors:  torch.Size([132123, 25, 45])\n",
      "cand_kinematics_tensors:  torch.Size([132123, 4, 45])\n",
      "mask_tensor:  torch.Size([132123, 45])\n",
      "targets_tensor:  torch.Size([132123, 45])\n"
     ]
    }
   ],
   "source": [
    "print(\"cand_features_tensors: \", cand_features_tensors.shape)\n",
    "print(\"cand_kinematics_tensors: \", cand_kinematics_tensors.shape)\n",
    "print(\"mask_tensor: \", mask_tensor.shape)\n",
    "print(\"targets_tensor: \", targets_tensor.shape)"
   ]
  },
  {
   "cell_type": "code",
   "execution_count": 467,
   "id": "c8d0f1b6-527e-4c53-800b-089a2cba2e29",
   "metadata": {},
   "outputs": [],
   "source": [
    "alltensors = (cand_features_tensors, cand_kinematics_tensors, mask_tensor, targets_tensor)"
   ]
  },
  {
   "cell_type": "code",
   "execution_count": 470,
   "id": "3a2b4a4a-841f-4a40-9e15-e0ddb913c01c",
   "metadata": {},
   "outputs": [
    {
     "data": {
      "text/plain": [
       "132123"
      ]
     },
     "execution_count": 470,
     "metadata": {},
     "output_type": "execute_result"
    }
   ],
   "source": [
    "len(alltensors[0])"
   ]
  },
  {
   "cell_type": "code",
   "execution_count": 453,
   "id": "49957af7-3602-40b7-978b-f2d9fe624f9e",
   "metadata": {},
   "outputs": [],
   "source": [
    "class VBFIterableDataset_pairs(IterableDataset):\n",
    "    # tglt on BaseIterableDataset argumendiks\n",
    "    def __init__(self, row_groups, device: str, cfg):\n",
    "        super().__init__()   # <-- no arguments here\n",
    "        self.row_groups = row_groups\n",
    "        self.device = device\n",
    "        self.cfg = cfg\n",
    "        self.max_pairs = cfg.dataset.get(\"max_pairs\", 45)\n",
    "        \n",
    "    def __iter__(self):\n",
    "        worker_info = torch.utils.data.get_worker_info()\n",
    "        if worker_info is None:\n",
    "            row_groups_to_process = self.row_groups\n",
    "        else:\n",
    "            # split row groups between workers\n",
    "            per_worker = int(math.ceil(len(self.row_groups) / worker_info.num_workers))\n",
    "            worker_id = worker_info.id\n",
    "            start = worker_id * per_worker\n",
    "            end = min(start + per_worker, len(self.row_groups))\n",
    "            row_groups_to_process = self.row_groups[start:end]\n",
    "        \n",
    "        for rg in row_groups_to_process:\n",
    "            # load one chunk from parquet\n",
    "            data = ak.from_parquet(rg.filename, row_groups=[rg.row_group])\n",
    "        \n",
    "            # build tensors for this chunk\n",
    "            cand_features, cand_kinematics, mask_tensor, targets_tensor = self.build_tensors(data)\n",
    "        \n",
    "            # yield per-event\n",
    "            for i in range(len(cand_features)):\n",
    "                yield (\n",
    "                    cand_features[i].to(self.device),\n",
    "                    cand_kinematics[i].to(self.device),\n",
    "                    mask_tensor[i].to(self.device),\n",
    "                    targets_tensor[i].to(self.device),\n",
    "                )\n",
    "\n",
    "    def build_tensors(self, data: ak.Array):\n",
    "        # jet 4-vectors (for kinematics)\n",
    "        jets = initialize_p4(data.TrainingJet)\n",
    "\n",
    "        # keep only events with > 3 jets\n",
    "        mask_valid = ak.num(jets) > 3\n",
    "        jets = jets[mask_valid]\n",
    "        isVBF = data.TrainingJet.isVBF[mask_valid]\n",
    "\n",
    "        # build all jet pairs\n",
    "        pairs = ak.combinations(jets, 2, fields=[\"j1\", \"j2\"])\n",
    "        pairs_isVBF = ak.combinations(isVBF, 2, fields=[\"j1\", \"j2\"])\n",
    "\n",
    "        # kinematics\n",
    "        pair_p4 = pairs.j1 + pairs.j2 \n",
    "        cand_kinematics = ak.Array({\n",
    "            \"cand_px\": pair_p4.px,\n",
    "            \"cand_py\": pair_p4.py,\n",
    "            \"cand_pz\": pair_p4.pz,\n",
    "            \"cand_en\": pair_p4.energy,\n",
    "        })\n",
    "        \n",
    "        cand_kinematics = ak.pad_none(cand_kinematics, 45, clip=True)\n",
    "        cand_kinematics = ak.fill_none(cand_kinematics, 0)\n",
    "        \n",
    "        cand_kinematics_tensors = stack_and_pad_features(cand_kinematics, 45)\n",
    "        cand_kinematics_tensors = torch.tensor(cand_kinematics_tensors, dtype=torch.float32)\n",
    "\n",
    "        # compute pair-level features\n",
    "        mjj = (pairs.j1 + pairs.j2).mass\n",
    "        deta = abs(pairs.j1.eta - pairs.j2.eta)\n",
    "        dphi = abs(pairs.j1.phi - pairs.j2.phi)\n",
    "        ptjj = (pairs.j1 + pairs.j2).pt\n",
    "        dRjj = pairs.j1.deltaR(pairs.j2)\n",
    "        etaetajj = pairs.j1.eta * pairs.j2.eta\n",
    "        # etaetajj = abs(pairs.j1.eta * pairs.j2.eta)\n",
    "        denergyjj = abs(pairs.j1.energy - pairs.j2.energy)\n",
    "        ejj = (pairs.j1 + pairs.j2).energy\n",
    "        e_mjj = ejj/mjj\n",
    "        event_energy = ak.sum(jets.energy, axis=1)\n",
    "        event_energy_per_pair, _ = ak.broadcast_arrays(event_energy, pairs)\n",
    "        event_pt = ak.sum(jets.pt, axis=1)\n",
    "        event_pt_per_pair, _ = ak.broadcast_arrays(event_pt, pairs)\n",
    "        higher_pt_mask = abs(pairs.j1.pt) > abs(pairs.j2.pt)\n",
    "        max_pt_pair = ak.where(higher_pt_mask, pairs.j1.pt, pairs.j2.pt)\n",
    "        min_pt_pair = ak.where(higher_pt_mask, pairs.j2.pt, pairs.j1.pt)\n",
    "        btagDeepFlavB_sum = (pairs2.j1.btagDeepFlavB + pairs2.j2.btagDeepFlavB)\n",
    "        btagDeepFlavCvB_sum = (pairs2.j1.btagDeepFlavCvB + pairs2.j2.btagDeepFlavCvB)\n",
    "        btagDeepFlavCvL_sum = (pairs2.j1.btagDeepFlavCvL + pairs2.j2.btagDeepFlavCvL)\n",
    "        btagDeepFlavQG_sum = (pairs2.j1.btagDeepFlavQG + pairs2.j2.btagDeepFlavQG)\n",
    "        btagPNetB_sum = (pairs2.j1.btagPNetB + pairs2.j2.btagPNetB)\n",
    "        btagPNetCvB_sum = (pairs2.j1.btagPNetCvB + pairs2.j2.btagPNetCvB)\n",
    "        btagPNetCvL_sum = (pairs2.j1.btagPNetCvL + pairs2.j2.btagPNetCvL)\n",
    "        btagPNetCvNotB_sum = (pairs2.j1.btagPNetCvNotB + pairs2.j2.btagPNetCvNotB)\n",
    "        btagPNetQvG_sum = (pairs2.j1.btagPNetQvG + pairs2.j2.btagPNetQvG)\n",
    "        btagPNetTauVJet_sum = (pairs2.j1.btagPNetTauVJet + pairs2.j2.btagPNetTauVJet)\n",
    "        hhbtag_sum = (pairs2.j1.hhbtag + pairs2.j2.hhbtag)\n",
    "\n",
    "        PuppiMET_covXY = data.PuppiMET.covXY[mask_valid]\n",
    "        PuppiMET_pt = data.PuppiMET.pt[mask_valid]\n",
    "        PuppiMET_covXY_per_pair, _ = ak.broadcast_arrays(PuppiMET_covXY, pairs)\n",
    "        PuppiMET_pt_per_pair, _ = ak.broadcast_arrays(PuppiMET_pt, pairs)\n",
    "\n",
    "        # features\n",
    "        cand_features = ak.Array({\n",
    "            \"mjj\": mjj,\n",
    "            \"ptjj\": ptjj,\n",
    "            \"deta\": deta,\n",
    "            \"dphi\": dphi,\n",
    "            \"btagDeepFlavB_sum\": btagDeepFlavB_sum,\n",
    "            \"btagDeepFlavCvB_sum\": btagDeepFlavCvB_sum,\n",
    "            \"btagDeepFlavCvL_sum\": btagDeepFlavCvL_sum,\n",
    "            \"btagDeepFlavQG_sum\": btagDeepFlavQG_sum,\n",
    "            \"btagPNetB_sum\": btagPNetB_sum,\n",
    "            \"btagPNetCvB_sum\": btagPNetCvB_sum,\n",
    "            \"btagPNetCvL_sum\": btagPNetCvL_sum,\n",
    "            \"btagPNetCvNotB_sum\": btagPNetCvNotB_sum,\n",
    "            \"btagPNetQvG_sum\": btagPNetQvG_sum,\n",
    "            \"btagPNetTauVJet_sum\": btagPNetTauVJet_sum,\n",
    "            \"hhbtag_sum\": hhbtag_sum,\n",
    "            \"PuppiMET_covXY_per_pair\": PuppiMET_covXY_per_pair,\n",
    "            \"PuppiMET_pt_per_pair\": PuppiMET_pt_per_pair,   \n",
    "            \"event_energy_per_pair\": event_energy_per_pair,\n",
    "            \"event_pt_per_pair\": event_pt_per_pair,\n",
    "            \"e_mjj\": e_mjj,\n",
    "            \"dRjj\": dRjj,\n",
    "            \"etaetajj\": etaetajj,\n",
    "            \"denergyjj\": denergyjj,\n",
    "            \"max_pt_pair\": max_pt_pair,\n",
    "            \"min_pt_pair\": min_pt_pair,\n",
    "           \n",
    "        })\n",
    "\n",
    "        # pad/truncate to max_pairs\n",
    "        cand_features = ak.pad_none(cand_features, self.max_pairs, clip=True)\n",
    "        cand_features = ak.fill_none(cand_features, 0)\n",
    "        cand_features_tensors = stack_and_pad_features(cand_features, self.max_pairs)\n",
    "        cand_features_tensors = torch.tensor(cand_features_tensors, dtype=torch.float32)\n",
    "        \n",
    "        targets = (pairs_isVBF.j1==1) & (pairs_isVBF.j2==1)\n",
    "        targets = ak.pad_none(targets, self.max_pairs, clip=True)\n",
    "        # mask = which pairs are real (before padding)\n",
    "        mask_tensor = torch.tensor(ak.to_numpy(~ak.is_none(targets, axis=-1)), dtype=torch.bool)\n",
    "        targets = ak.fill_none(targets, 0)\n",
    "        targets_tensor = torch.tensor(ak.to_numpy(targets), dtype=torch.float32)\n",
    "\n",
    "        print(\"Returning tensors with shapes:\",\n",
    "            cand_features_tensors.shape,\n",
    "            cand_kinematics_tensors.shape,\n",
    "            mask_tensor.shape,\n",
    "            targets_tensor.shape)\n",
    "\n",
    "        return cand_features_tensors, cand_kinematics_tensors, mask_tensor, targets_tensor"
   ]
  },
  {
   "cell_type": "code",
   "execution_count": 454,
   "id": "e4b3500b-d1be-4ec3-93c8-cbfeafe55bcf",
   "metadata": {},
   "outputs": [],
   "source": [
    "def next_epoch(dataloader, train=True):\n",
    "    if train:\n",
    "        model.train()\n",
    "    else:\n",
    "        model.eval()\n",
    "\n",
    "    dev = \"cpu\"\n",
    "    loss_total = 0.0\n",
    "    normalization = 0.0\n",
    "\n",
    "    for idx_batch, (cand_features, cand_kinematics, cand_mask, targets) in tqdm.tqdm(enumerate(dataloader)):\n",
    "        cand_features = cand_features.to(dev)\n",
    "        cand_kinematics = cand_kinematics.to(dev)\n",
    "        cand_mask = cand_mask.to(dev)\n",
    "        targets = targets.to(dev)\n",
    "\n",
    "        pred, _ = model(cand_features, cand_kinematics, cand_mask)\n",
    "\n",
    "        loss = cls_loss(\n",
    "            pred.view(-1, pred.size(-1)),\n",
    "            targets.view(-1).long()\n",
    "        )\n",
    "\n",
    "        loss_total += loss.sum().item()\n",
    "        normalization += loss.numel()\n",
    "\n",
    "        if train:\n",
    "            optimizer.zero_grad()\n",
    "            loss.mean().backward()\n",
    "            optimizer.step()\n",
    "\n",
    "    return loss_total / normalization\n",
    "\n"
   ]
  },
  {
   "cell_type": "code",
   "execution_count": 455,
   "id": "b3d59304-87bc-4bc6-8936-0cd34a26c6a4",
   "metadata": {},
   "outputs": [],
   "source": [
    "files = glob.glob(\"/home/norman/samples/hh_vbf/*.parquet\")\n",
    "\n",
    "row_groups = []\n",
    "for f in files:\n",
    "    row_groups.extend(load_row_groups(f))\n",
    "\n",
    "nvalid = int(0.2 * len(row_groups))\n",
    "validation_data = row_groups[:nvalid]\n",
    "training_data   = row_groups[nvalid:]\n",
    "\n",
    "cfg = OmegaConf.create({\n",
    "    \"dataset\": {\"max_pairs\": 45}\n",
    "})\n",
    "\n",
    "dataset_train = VBFIterableDataset_pairs(training_data, device=\"cpu\", cfg=cfg)\n",
    "dataset_val   = VBFIterableDataset_pairs(validation_data, device=\"cpu\", cfg=cfg)\n"
   ]
  },
  {
   "cell_type": "code",
   "execution_count": 456,
   "id": "4b931003-9458-4d34-8744-3869b8b2c919",
   "metadata": {},
   "outputs": [],
   "source": [
    "from torch.utils.data import DataLoader\n",
    "\n",
    "dataloader_train = DataLoader(dataset_train, batch_size=128)\n",
    "dataloader_val   = DataLoader(dataset_val, batch_size=128)"
   ]
  },
  {
   "cell_type": "code",
   "execution_count": 457,
   "id": "e2f6f1ad-c5ee-4be4-a4eb-6697b30488f7",
   "metadata": {},
   "outputs": [],
   "source": [
    "model = LorentzNet(\n",
    "    n_scalar=4,\n",
    "    n_hidden=1,\n",
    "    n_class=16,\n",
    "    dropout=0,\n",
    "    n_layers=2,\n",
    "    c_weight=1,\n",
    "    verbosity=1,\n",
    ").to(device=\"cpu\")"
   ]
  },
  {
   "cell_type": "code",
   "execution_count": 458,
   "id": "7cda136b-f178-4b44-9157-25a8e438eb95",
   "metadata": {},
   "outputs": [],
   "source": [
    "cls_loss = nn.CrossEntropyLoss(reduction=\"none\")\n",
    "optimizer = torch.optim.AdamW(model.parameters(), lr=1e-3)"
   ]
  },
  {
   "cell_type": "code",
   "execution_count": 459,
   "id": "7c108d80-7505-4ae7-bf19-99e042686a61",
   "metadata": {},
   "outputs": [
    {
     "name": "stderr",
     "output_type": "stream",
     "text": [
      "0it [00:00, ?it/s]\n"
     ]
    },
    {
     "ename": "ValueError",
     "evalue": "dict of arrays in ak.Array constructor must have arrays of equal length (3960 vs 132123). For automatic broadcasting use 'ak.zip' instead. ",
     "output_type": "error",
     "traceback": [
      "\u001b[31m---------------------------------------------------------------------------\u001b[39m",
      "\u001b[31mValueError\u001b[39m                                Traceback (most recent call last)",
      "\u001b[36mCell\u001b[39m\u001b[36m \u001b[39m\u001b[32mIn[459]\u001b[39m\u001b[32m, line 4\u001b[39m\n\u001b[32m      2\u001b[39m losses_train = []\n\u001b[32m      3\u001b[39m \u001b[38;5;28;01mfor\u001b[39;00m i \u001b[38;5;129;01min\u001b[39;00m \u001b[38;5;28mrange\u001b[39m(\u001b[32m5\u001b[39m):\n\u001b[32m----> \u001b[39m\u001b[32m4\u001b[39m     train_loss = \u001b[43mnext_epoch\u001b[49m\u001b[43m(\u001b[49m\u001b[43mdataloader_train\u001b[49m\u001b[43m,\u001b[49m\u001b[43m \u001b[49m\u001b[38;5;28;43;01mTrue\u001b[39;49;00m\u001b[43m)\u001b[49m\n\u001b[32m      5\u001b[39m     val_loss = next_epoch(dataloader_val, \u001b[38;5;28;01mFalse\u001b[39;00m)\n\u001b[32m      6\u001b[39m     losses_train.append(train_loss)\n",
      "\u001b[36mCell\u001b[39m\u001b[36m \u001b[39m\u001b[32mIn[454]\u001b[39m\u001b[32m, line 11\u001b[39m, in \u001b[36mnext_epoch\u001b[39m\u001b[34m(dataloader, train)\u001b[39m\n\u001b[32m      8\u001b[39m loss_total = \u001b[32m0.0\u001b[39m\n\u001b[32m      9\u001b[39m normalization = \u001b[32m0.0\u001b[39m\n\u001b[32m---> \u001b[39m\u001b[32m11\u001b[39m \u001b[43m\u001b[49m\u001b[38;5;28;43;01mfor\u001b[39;49;00m\u001b[43m \u001b[49m\u001b[43midx_batch\u001b[49m\u001b[43m,\u001b[49m\u001b[43m \u001b[49m\u001b[43m(\u001b[49m\u001b[43mcand_features\u001b[49m\u001b[43m,\u001b[49m\u001b[43m \u001b[49m\u001b[43mcand_kinematics\u001b[49m\u001b[43m,\u001b[49m\u001b[43m \u001b[49m\u001b[43mcand_mask\u001b[49m\u001b[43m,\u001b[49m\u001b[43m \u001b[49m\u001b[43mtargets\u001b[49m\u001b[43m)\u001b[49m\u001b[43m \u001b[49m\u001b[38;5;129;43;01min\u001b[39;49;00m\u001b[43m \u001b[49m\u001b[43mtqdm\u001b[49m\u001b[43m.\u001b[49m\u001b[43mtqdm\u001b[49m\u001b[43m(\u001b[49m\u001b[38;5;28;43menumerate\u001b[39;49m\u001b[43m(\u001b[49m\u001b[43mdataloader\u001b[49m\u001b[43m)\u001b[49m\u001b[43m)\u001b[49m\u001b[43m:\u001b[49m\n\u001b[32m     12\u001b[39m \u001b[43m    \u001b[49m\u001b[43mcand_features\u001b[49m\u001b[43m \u001b[49m\u001b[43m=\u001b[49m\u001b[43m \u001b[49m\u001b[43mcand_features\u001b[49m\u001b[43m.\u001b[49m\u001b[43mto\u001b[49m\u001b[43m(\u001b[49m\u001b[43mdev\u001b[49m\u001b[43m)\u001b[49m\n\u001b[32m     13\u001b[39m \u001b[43m    \u001b[49m\u001b[43mcand_kinematics\u001b[49m\u001b[43m \u001b[49m\u001b[43m=\u001b[49m\u001b[43m \u001b[49m\u001b[43mcand_kinematics\u001b[49m\u001b[43m.\u001b[49m\u001b[43mto\u001b[49m\u001b[43m(\u001b[49m\u001b[43mdev\u001b[49m\u001b[43m)\u001b[49m\n",
      "\u001b[36mFile \u001b[39m\u001b[32m/opt/conda/lib/python3.11/site-packages/tqdm/std.py:1181\u001b[39m, in \u001b[36mtqdm.__iter__\u001b[39m\u001b[34m(self)\u001b[39m\n\u001b[32m   1178\u001b[39m time = \u001b[38;5;28mself\u001b[39m._time\n\u001b[32m   1180\u001b[39m \u001b[38;5;28;01mtry\u001b[39;00m:\n\u001b[32m-> \u001b[39m\u001b[32m1181\u001b[39m \u001b[43m    \u001b[49m\u001b[38;5;28;43;01mfor\u001b[39;49;00m\u001b[43m \u001b[49m\u001b[43mobj\u001b[49m\u001b[43m \u001b[49m\u001b[38;5;129;43;01min\u001b[39;49;00m\u001b[43m \u001b[49m\u001b[43miterable\u001b[49m\u001b[43m:\u001b[49m\n\u001b[32m   1182\u001b[39m \u001b[43m        \u001b[49m\u001b[38;5;28;43;01myield\u001b[39;49;00m\u001b[43m \u001b[49m\u001b[43mobj\u001b[49m\n\u001b[32m   1183\u001b[39m \u001b[43m        \u001b[49m\u001b[38;5;66;43;03m# Update and possibly print the progressbar.\u001b[39;49;00m\n\u001b[32m   1184\u001b[39m \u001b[43m        \u001b[49m\u001b[38;5;66;43;03m# Note: does not call self.update(1) for speed optimisation.\u001b[39;49;00m\n",
      "\u001b[36mFile \u001b[39m\u001b[32m/opt/conda/lib/python3.11/site-packages/torch/utils/data/dataloader.py:734\u001b[39m, in \u001b[36m_BaseDataLoaderIter.__next__\u001b[39m\u001b[34m(self)\u001b[39m\n\u001b[32m    731\u001b[39m \u001b[38;5;28;01mif\u001b[39;00m \u001b[38;5;28mself\u001b[39m._sampler_iter \u001b[38;5;129;01mis\u001b[39;00m \u001b[38;5;28;01mNone\u001b[39;00m:\n\u001b[32m    732\u001b[39m     \u001b[38;5;66;03m# TODO(https://github.com/pytorch/pytorch/issues/76750)\u001b[39;00m\n\u001b[32m    733\u001b[39m     \u001b[38;5;28mself\u001b[39m._reset()  \u001b[38;5;66;03m# type: ignore[call-arg]\u001b[39;00m\n\u001b[32m--> \u001b[39m\u001b[32m734\u001b[39m data = \u001b[38;5;28;43mself\u001b[39;49m\u001b[43m.\u001b[49m\u001b[43m_next_data\u001b[49m\u001b[43m(\u001b[49m\u001b[43m)\u001b[49m\n\u001b[32m    735\u001b[39m \u001b[38;5;28mself\u001b[39m._num_yielded += \u001b[32m1\u001b[39m\n\u001b[32m    736\u001b[39m \u001b[38;5;28;01mif\u001b[39;00m (\n\u001b[32m    737\u001b[39m     \u001b[38;5;28mself\u001b[39m._dataset_kind == _DatasetKind.Iterable\n\u001b[32m    738\u001b[39m     \u001b[38;5;129;01mand\u001b[39;00m \u001b[38;5;28mself\u001b[39m._IterableDataset_len_called \u001b[38;5;129;01mis\u001b[39;00m \u001b[38;5;129;01mnot\u001b[39;00m \u001b[38;5;28;01mNone\u001b[39;00m\n\u001b[32m    739\u001b[39m     \u001b[38;5;129;01mand\u001b[39;00m \u001b[38;5;28mself\u001b[39m._num_yielded > \u001b[38;5;28mself\u001b[39m._IterableDataset_len_called\n\u001b[32m    740\u001b[39m ):\n",
      "\u001b[36mFile \u001b[39m\u001b[32m/opt/conda/lib/python3.11/site-packages/torch/utils/data/dataloader.py:790\u001b[39m, in \u001b[36m_SingleProcessDataLoaderIter._next_data\u001b[39m\u001b[34m(self)\u001b[39m\n\u001b[32m    788\u001b[39m \u001b[38;5;28;01mdef\u001b[39;00m\u001b[38;5;250m \u001b[39m\u001b[34m_next_data\u001b[39m(\u001b[38;5;28mself\u001b[39m):\n\u001b[32m    789\u001b[39m     index = \u001b[38;5;28mself\u001b[39m._next_index()  \u001b[38;5;66;03m# may raise StopIteration\u001b[39;00m\n\u001b[32m--> \u001b[39m\u001b[32m790\u001b[39m     data = \u001b[38;5;28;43mself\u001b[39;49m\u001b[43m.\u001b[49m\u001b[43m_dataset_fetcher\u001b[49m\u001b[43m.\u001b[49m\u001b[43mfetch\u001b[49m\u001b[43m(\u001b[49m\u001b[43mindex\u001b[49m\u001b[43m)\u001b[49m  \u001b[38;5;66;03m# may raise StopIteration\u001b[39;00m\n\u001b[32m    791\u001b[39m     \u001b[38;5;28;01mif\u001b[39;00m \u001b[38;5;28mself\u001b[39m._pin_memory:\n\u001b[32m    792\u001b[39m         data = _utils.pin_memory.pin_memory(data, \u001b[38;5;28mself\u001b[39m._pin_memory_device)\n",
      "\u001b[36mFile \u001b[39m\u001b[32m/opt/conda/lib/python3.11/site-packages/torch/utils/data/_utils/fetch.py:33\u001b[39m, in \u001b[36m_IterableDatasetFetcher.fetch\u001b[39m\u001b[34m(self, possibly_batched_index)\u001b[39m\n\u001b[32m     31\u001b[39m \u001b[38;5;28;01mfor\u001b[39;00m _ \u001b[38;5;129;01min\u001b[39;00m possibly_batched_index:\n\u001b[32m     32\u001b[39m     \u001b[38;5;28;01mtry\u001b[39;00m:\n\u001b[32m---> \u001b[39m\u001b[32m33\u001b[39m         data.append(\u001b[38;5;28;43mnext\u001b[39;49m\u001b[43m(\u001b[49m\u001b[38;5;28;43mself\u001b[39;49m\u001b[43m.\u001b[49m\u001b[43mdataset_iter\u001b[49m\u001b[43m)\u001b[49m)\n\u001b[32m     34\u001b[39m     \u001b[38;5;28;01mexcept\u001b[39;00m \u001b[38;5;167;01mStopIteration\u001b[39;00m:\n\u001b[32m     35\u001b[39m         \u001b[38;5;28mself\u001b[39m.ended = \u001b[38;5;28;01mTrue\u001b[39;00m\n",
      "\u001b[36mCell\u001b[39m\u001b[36m \u001b[39m\u001b[32mIn[453]\u001b[39m\u001b[32m, line 27\u001b[39m, in \u001b[36mVBFIterableDataset_pairs.__iter__\u001b[39m\u001b[34m(self)\u001b[39m\n\u001b[32m     24\u001b[39m data = ak.from_parquet(rg.filename, row_groups=[rg.row_group])\n\u001b[32m     26\u001b[39m \u001b[38;5;66;03m# build tensors for this chunk\u001b[39;00m\n\u001b[32m---> \u001b[39m\u001b[32m27\u001b[39m cand_features, cand_kinematics, mask_tensor, targets_tensor = \u001b[38;5;28;43mself\u001b[39;49m\u001b[43m.\u001b[49m\u001b[43mbuild_tensors\u001b[49m\u001b[43m(\u001b[49m\u001b[43mdata\u001b[49m\u001b[43m)\u001b[49m\n\u001b[32m     29\u001b[39m \u001b[38;5;66;03m# yield per-event\u001b[39;00m\n\u001b[32m     30\u001b[39m \u001b[38;5;28;01mfor\u001b[39;00m i \u001b[38;5;129;01min\u001b[39;00m \u001b[38;5;28mrange\u001b[39m(\u001b[38;5;28mlen\u001b[39m(cand_features)):\n",
      "\u001b[36mCell\u001b[39m\u001b[36m \u001b[39m\u001b[32mIn[453]\u001b[39m\u001b[32m, line 102\u001b[39m, in \u001b[36mVBFIterableDataset_pairs.build_tensors\u001b[39m\u001b[34m(self, data)\u001b[39m\n\u001b[32m     99\u001b[39m PuppiMET_pt_per_pair, _ = ak.broadcast_arrays(PuppiMET_pt, pairs)\n\u001b[32m    101\u001b[39m \u001b[38;5;66;03m# features\u001b[39;00m\n\u001b[32m--> \u001b[39m\u001b[32m102\u001b[39m cand_features = \u001b[43mak\u001b[49m\u001b[43m.\u001b[49m\u001b[43mArray\u001b[49m\u001b[43m(\u001b[49m\u001b[43m{\u001b[49m\n\u001b[32m    103\u001b[39m \u001b[43m    \u001b[49m\u001b[33;43m\"\u001b[39;49m\u001b[33;43mmjj\u001b[39;49m\u001b[33;43m\"\u001b[39;49m\u001b[43m:\u001b[49m\u001b[43m \u001b[49m\u001b[43mmjj\u001b[49m\u001b[43m,\u001b[49m\n\u001b[32m    104\u001b[39m \u001b[43m    \u001b[49m\u001b[33;43m\"\u001b[39;49m\u001b[33;43mptjj\u001b[39;49m\u001b[33;43m\"\u001b[39;49m\u001b[43m:\u001b[49m\u001b[43m \u001b[49m\u001b[43mptjj\u001b[49m\u001b[43m,\u001b[49m\n\u001b[32m    105\u001b[39m \u001b[43m    \u001b[49m\u001b[33;43m\"\u001b[39;49m\u001b[33;43mdeta\u001b[39;49m\u001b[33;43m\"\u001b[39;49m\u001b[43m:\u001b[49m\u001b[43m \u001b[49m\u001b[43mdeta\u001b[49m\u001b[43m,\u001b[49m\n\u001b[32m    106\u001b[39m \u001b[43m    \u001b[49m\u001b[33;43m\"\u001b[39;49m\u001b[33;43mdphi\u001b[39;49m\u001b[33;43m\"\u001b[39;49m\u001b[43m:\u001b[49m\u001b[43m \u001b[49m\u001b[43mdphi\u001b[49m\u001b[43m,\u001b[49m\n\u001b[32m    107\u001b[39m \u001b[43m    \u001b[49m\u001b[33;43m\"\u001b[39;49m\u001b[33;43mbtagDeepFlavB_sum\u001b[39;49m\u001b[33;43m\"\u001b[39;49m\u001b[43m:\u001b[49m\u001b[43m \u001b[49m\u001b[43mbtagDeepFlavB_sum\u001b[49m\u001b[43m,\u001b[49m\n\u001b[32m    108\u001b[39m \u001b[43m    \u001b[49m\u001b[33;43m\"\u001b[39;49m\u001b[33;43mbtagDeepFlavCvB_sum\u001b[39;49m\u001b[33;43m\"\u001b[39;49m\u001b[43m:\u001b[49m\u001b[43m \u001b[49m\u001b[43mbtagDeepFlavCvB_sum\u001b[49m\u001b[43m,\u001b[49m\n\u001b[32m    109\u001b[39m \u001b[43m    \u001b[49m\u001b[33;43m\"\u001b[39;49m\u001b[33;43mbtagDeepFlavCvL_sum\u001b[39;49m\u001b[33;43m\"\u001b[39;49m\u001b[43m:\u001b[49m\u001b[43m \u001b[49m\u001b[43mbtagDeepFlavCvL_sum\u001b[49m\u001b[43m,\u001b[49m\n\u001b[32m    110\u001b[39m \u001b[43m    \u001b[49m\u001b[33;43m\"\u001b[39;49m\u001b[33;43mbtagDeepFlavQG_sum\u001b[39;49m\u001b[33;43m\"\u001b[39;49m\u001b[43m:\u001b[49m\u001b[43m \u001b[49m\u001b[43mbtagDeepFlavQG_sum\u001b[49m\u001b[43m,\u001b[49m\n\u001b[32m    111\u001b[39m \u001b[43m    \u001b[49m\u001b[33;43m\"\u001b[39;49m\u001b[33;43mbtagPNetB_sum\u001b[39;49m\u001b[33;43m\"\u001b[39;49m\u001b[43m:\u001b[49m\u001b[43m \u001b[49m\u001b[43mbtagPNetB_sum\u001b[49m\u001b[43m,\u001b[49m\n\u001b[32m    112\u001b[39m \u001b[43m    \u001b[49m\u001b[33;43m\"\u001b[39;49m\u001b[33;43mbtagPNetCvB_sum\u001b[39;49m\u001b[33;43m\"\u001b[39;49m\u001b[43m:\u001b[49m\u001b[43m \u001b[49m\u001b[43mbtagPNetCvB_sum\u001b[49m\u001b[43m,\u001b[49m\n\u001b[32m    113\u001b[39m \u001b[43m    \u001b[49m\u001b[33;43m\"\u001b[39;49m\u001b[33;43mbtagPNetCvL_sum\u001b[39;49m\u001b[33;43m\"\u001b[39;49m\u001b[43m:\u001b[49m\u001b[43m \u001b[49m\u001b[43mbtagPNetCvL_sum\u001b[49m\u001b[43m,\u001b[49m\n\u001b[32m    114\u001b[39m \u001b[43m    \u001b[49m\u001b[33;43m\"\u001b[39;49m\u001b[33;43mbtagPNetCvNotB_sum\u001b[39;49m\u001b[33;43m\"\u001b[39;49m\u001b[43m:\u001b[49m\u001b[43m \u001b[49m\u001b[43mbtagPNetCvNotB_sum\u001b[49m\u001b[43m,\u001b[49m\n\u001b[32m    115\u001b[39m \u001b[43m    \u001b[49m\u001b[33;43m\"\u001b[39;49m\u001b[33;43mbtagPNetQvG_sum\u001b[39;49m\u001b[33;43m\"\u001b[39;49m\u001b[43m:\u001b[49m\u001b[43m \u001b[49m\u001b[43mbtagPNetQvG_sum\u001b[49m\u001b[43m,\u001b[49m\n\u001b[32m    116\u001b[39m \u001b[43m    \u001b[49m\u001b[33;43m\"\u001b[39;49m\u001b[33;43mbtagPNetTauVJet_sum\u001b[39;49m\u001b[33;43m\"\u001b[39;49m\u001b[43m:\u001b[49m\u001b[43m \u001b[49m\u001b[43mbtagPNetTauVJet_sum\u001b[49m\u001b[43m,\u001b[49m\n\u001b[32m    117\u001b[39m \u001b[43m    \u001b[49m\u001b[33;43m\"\u001b[39;49m\u001b[33;43mhhbtag_sum\u001b[39;49m\u001b[33;43m\"\u001b[39;49m\u001b[43m:\u001b[49m\u001b[43m \u001b[49m\u001b[43mhhbtag_sum\u001b[49m\u001b[43m,\u001b[49m\n\u001b[32m    118\u001b[39m \u001b[43m    \u001b[49m\u001b[33;43m\"\u001b[39;49m\u001b[33;43mPuppiMET_covXY_per_pair\u001b[39;49m\u001b[33;43m\"\u001b[39;49m\u001b[43m:\u001b[49m\u001b[43m \u001b[49m\u001b[43mPuppiMET_covXY_per_pair\u001b[49m\u001b[43m,\u001b[49m\n\u001b[32m    119\u001b[39m \u001b[43m    \u001b[49m\u001b[33;43m\"\u001b[39;49m\u001b[33;43mPuppiMET_pt_per_pair\u001b[39;49m\u001b[33;43m\"\u001b[39;49m\u001b[43m:\u001b[49m\u001b[43m \u001b[49m\u001b[43mPuppiMET_pt_per_pair\u001b[49m\u001b[43m,\u001b[49m\u001b[43m   \u001b[49m\n\u001b[32m    120\u001b[39m \u001b[43m    \u001b[49m\u001b[33;43m\"\u001b[39;49m\u001b[33;43mevent_energy_per_pair\u001b[39;49m\u001b[33;43m\"\u001b[39;49m\u001b[43m:\u001b[49m\u001b[43m \u001b[49m\u001b[43mevent_energy_per_pair\u001b[49m\u001b[43m,\u001b[49m\n\u001b[32m    121\u001b[39m \u001b[43m    \u001b[49m\u001b[33;43m\"\u001b[39;49m\u001b[33;43mevent_pt_per_pair\u001b[39;49m\u001b[33;43m\"\u001b[39;49m\u001b[43m:\u001b[49m\u001b[43m \u001b[49m\u001b[43mevent_pt_per_pair\u001b[49m\u001b[43m,\u001b[49m\n\u001b[32m    122\u001b[39m \u001b[43m    \u001b[49m\u001b[33;43m\"\u001b[39;49m\u001b[33;43me_mjj\u001b[39;49m\u001b[33;43m\"\u001b[39;49m\u001b[43m:\u001b[49m\u001b[43m \u001b[49m\u001b[43me_mjj\u001b[49m\u001b[43m,\u001b[49m\n\u001b[32m    123\u001b[39m \u001b[43m    \u001b[49m\u001b[33;43m\"\u001b[39;49m\u001b[33;43mdRjj\u001b[39;49m\u001b[33;43m\"\u001b[39;49m\u001b[43m:\u001b[49m\u001b[43m \u001b[49m\u001b[43mdRjj\u001b[49m\u001b[43m,\u001b[49m\n\u001b[32m    124\u001b[39m \u001b[43m    \u001b[49m\u001b[33;43m\"\u001b[39;49m\u001b[33;43metaetajj\u001b[39;49m\u001b[33;43m\"\u001b[39;49m\u001b[43m:\u001b[49m\u001b[43m \u001b[49m\u001b[43metaetajj\u001b[49m\u001b[43m,\u001b[49m\n\u001b[32m    125\u001b[39m \u001b[43m    \u001b[49m\u001b[33;43m\"\u001b[39;49m\u001b[33;43mdenergyjj\u001b[39;49m\u001b[33;43m\"\u001b[39;49m\u001b[43m:\u001b[49m\u001b[43m \u001b[49m\u001b[43mdenergyjj\u001b[49m\u001b[43m,\u001b[49m\n\u001b[32m    126\u001b[39m \u001b[43m    \u001b[49m\u001b[33;43m\"\u001b[39;49m\u001b[33;43mmax_pt_pair\u001b[39;49m\u001b[33;43m\"\u001b[39;49m\u001b[43m:\u001b[49m\u001b[43m \u001b[49m\u001b[43mmax_pt_pair\u001b[49m\u001b[43m,\u001b[49m\n\u001b[32m    127\u001b[39m \u001b[43m    \u001b[49m\u001b[33;43m\"\u001b[39;49m\u001b[33;43mmin_pt_pair\u001b[39;49m\u001b[33;43m\"\u001b[39;49m\u001b[43m:\u001b[49m\u001b[43m \u001b[49m\u001b[43mmin_pt_pair\u001b[49m\u001b[43m,\u001b[49m\n\u001b[32m    128\u001b[39m \n\u001b[32m    129\u001b[39m \u001b[43m\u001b[49m\u001b[43m}\u001b[49m\u001b[43m)\u001b[49m\n\u001b[32m    131\u001b[39m \u001b[38;5;66;03m# pad/truncate to max_pairs\u001b[39;00m\n\u001b[32m    132\u001b[39m cand_features = ak.pad_none(cand_features, \u001b[38;5;28mself\u001b[39m.max_pairs, clip=\u001b[38;5;28;01mTrue\u001b[39;00m)\n",
      "\u001b[36mFile \u001b[39m\u001b[32m/opt/conda/lib/python3.11/site-packages/awkward/highlevel.py:312\u001b[39m, in \u001b[36mArray.__init__\u001b[39m\u001b[34m(self, data, behavior, with_name, check_valid, backend, attrs, named_axis)\u001b[39m\n\u001b[32m    310\u001b[39m         length = _arrays[-\u001b[32m1\u001b[39m].layout.length\n\u001b[32m    311\u001b[39m     \u001b[38;5;28;01melif\u001b[39;00m length != _arrays[-\u001b[32m1\u001b[39m].layout.length:\n\u001b[32m--> \u001b[39m\u001b[32m312\u001b[39m         \u001b[38;5;28;01mraise\u001b[39;00m \u001b[38;5;167;01mValueError\u001b[39;00m(\n\u001b[32m    313\u001b[39m             \u001b[33m\"\u001b[39m\u001b[33mdict of arrays in ak.Array constructor must have arrays \u001b[39m\u001b[33m\"\u001b[39m\n\u001b[32m    314\u001b[39m             \u001b[33mf\u001b[39m\u001b[33m\"\u001b[39m\u001b[33mof equal length (\u001b[39m\u001b[38;5;132;01m{\u001b[39;00mlength\u001b[38;5;132;01m}\u001b[39;00m\u001b[33m vs \u001b[39m\u001b[38;5;132;01m{\u001b[39;00m_arrays[-\u001b[32m1\u001b[39m].layout.length\u001b[38;5;132;01m}\u001b[39;00m\u001b[33m). \u001b[39m\u001b[33m\"\u001b[39m\n\u001b[32m    315\u001b[39m             \u001b[33m\"\u001b[39m\u001b[33mFor automatic broadcasting use \u001b[39m\u001b[33m'\u001b[39m\u001b[33mak.zip\u001b[39m\u001b[33m'\u001b[39m\u001b[33m instead. \u001b[39m\u001b[33m\"\u001b[39m\n\u001b[32m    316\u001b[39m         )\n\u001b[32m    317\u001b[39m layout = ak.contents.RecordArray([arr.layout \u001b[38;5;28;01mfor\u001b[39;00m arr \u001b[38;5;129;01min\u001b[39;00m _arrays], fields)\n\u001b[32m    318\u001b[39m attrs = attrs_of(*_arrays, attrs=attrs)\n",
      "\u001b[31mValueError\u001b[39m: dict of arrays in ak.Array constructor must have arrays of equal length (3960 vs 132123). For automatic broadcasting use 'ak.zip' instead. "
     ]
    }
   ],
   "source": [
    "losses_val = []\n",
    "losses_train = []\n",
    "for i in range(5):\n",
    "    train_loss = next_epoch(dataloader_train, True)\n",
    "    val_loss = next_epoch(dataloader_val, False)\n",
    "    losses_train.append(train_loss)\n",
    "    losses_val.append(val_loss)\n",
    "    print(f\"train_loss: {train_loss:.4f} \\t val_loss: {val_loss:.4f}\")\n"
   ]
  },
  {
   "cell_type": "code",
   "execution_count": null,
   "id": "f3e4b3e9-2545-405c-b16a-0052e0e2bcfb",
   "metadata": {},
   "outputs": [],
   "source": []
  },
  {
   "cell_type": "code",
   "execution_count": null,
   "id": "a05114a3-703e-43c3-bb7f-2277ab1792c5",
   "metadata": {},
   "outputs": [],
   "source": []
  }
 ],
 "metadata": {
  "kernelspec": {
   "display_name": "Python 3 (ipykernel)",
   "language": "python",
   "name": "python3"
  },
  "language_info": {
   "codemirror_mode": {
    "name": "ipython",
    "version": 3
   },
   "file_extension": ".py",
   "mimetype": "text/x-python",
   "name": "python",
   "nbconvert_exporter": "python",
   "pygments_lexer": "ipython3",
   "version": "3.11.13"
  }
 },
 "nbformat": 4,
 "nbformat_minor": 5
}
