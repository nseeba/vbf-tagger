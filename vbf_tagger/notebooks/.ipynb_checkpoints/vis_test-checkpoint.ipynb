{
 "cells": [
  {
   "cell_type": "code",
   "execution_count": 1,
   "id": "35b21508-47d7-42af-8ec4-e9ad9c405e97",
   "metadata": {},
   "outputs": [],
   "source": [
    "import os\n",
    "import json\n",
    "import torch\n",
    "from hydra import compose, initialize\n",
    "from omegaconf import OmegaConf, DictConfig\n",
    "import numpy as np\n",
    "import pandas as pd\n",
    "import matplotlib.pyplot as plt\n",
    "from vbf_tagger.tools.evaluation import general as g\n",
    "from vbf_tagger.tools.visualization import classification as cv\n",
    "from vbf_tagger.models.LorentzNet import classification\n",
    "from vbf_tagger.tools.data.dataloaders import VBFDataModule\n",
    "from sklearn.metrics import roc_curve, auc\n",
    "\n",
    "with initialize(version_base=None, config_path=\"../config\", job_name=\"test_app\"):\n",
    "    cfg = compose(config_name=\"main\")"
   ]
  },
  {
   "cell_type": "code",
   "execution_count": 2,
   "id": "0f6c3ce2-0d51-4143-b966-c34b1217b203",
   "metadata": {},
   "outputs": [],
   "source": [
    "CLASSIFICATION_TRAININGS = {\n",
    "    \"local_50\": \"/home/norman/vbf-tagger/outputs/vbf_run/classification\",\n",
    "\n",
    "}    \n",
    "RESULTS_DIR = \"/home/norman/tmp/results\"\n",
    "os.makedirs(RESULTS_DIR, exist_ok=True)"
   ]
  },
  {
   "cell_type": "code",
   "execution_count": 3,
   "id": "e8db2c98-bfba-485d-bbb9-229c2c50c85c",
   "metadata": {},
   "outputs": [
    {
     "name": "stdout",
     "output_type": "stream",
     "text": [
      "dict_keys(['epoch', 'global_step', 'pytorch-lightning_version', 'state_dict', 'loops', 'callbacks', 'optimizer_states', 'lr_schedulers', 'hyper_parameters', 'datamodule_hparams_name', 'datamodule_hyper_parameters'])\n",
      "{'n_scalar': 11, 'n_hidden': 128, 'n_class': 2, 'dropout': 0.1, 'n_layers': 4, 'c_weight': 0.001, 'verbosity': 1, 'lr': 0.001}\n"
     ]
    }
   ],
   "source": [
    "import torch\n",
    "from omegaconf import DictConfig\n",
    "torch.serialization.add_safe_globals([DictConfig])\n",
    "\n",
    "ckpt_path = \"/home/norman/vbf-tagger/outputs/vbf_run/classification/models/model_best.ckpt\"\n",
    "checkpoint = torch.load(ckpt_path, map_location=\"cpu\", weights_only=False)\n",
    "\n",
    "print(checkpoint.keys())                # top-level keys\n",
    "print(checkpoint.get(\"hyper_parameters\", None))  # what hyperparams contain\n"
   ]
  },
  {
   "cell_type": "code",
   "execution_count": 4,
   "id": "21ecb550-63f7-4a81-9059-650632e61201",
   "metadata": {},
   "outputs": [
    {
     "data": {
      "text/plain": [
       "classification(\n",
       "  (model): LorentzNet(\n",
       "    (embedding): Linear(in_features=11, out_features=128, bias=True)\n",
       "    (LGEBs): ModuleList(\n",
       "      (0-2): 3 x LGEB(\n",
       "        (phi_e): Sequential(\n",
       "          (0): Linear(in_features=258, out_features=128, bias=False)\n",
       "          (1): BatchNorm1d(128, eps=1e-05, momentum=0.1, affine=True, track_running_stats=True)\n",
       "          (2): ReLU()\n",
       "          (3): Linear(in_features=128, out_features=128, bias=True)\n",
       "          (4): ReLU()\n",
       "        )\n",
       "        (phi_h): Sequential(\n",
       "          (0): Linear(in_features=267, out_features=128, bias=True)\n",
       "          (1): BatchNorm1d(128, eps=1e-05, momentum=0.1, affine=True, track_running_stats=True)\n",
       "          (2): ReLU()\n",
       "          (3): Linear(in_features=128, out_features=128, bias=True)\n",
       "        )\n",
       "        (phi_x): Sequential(\n",
       "          (0): Linear(in_features=128, out_features=128, bias=True)\n",
       "          (1): ReLU()\n",
       "          (2): Linear(in_features=128, out_features=1, bias=False)\n",
       "        )\n",
       "        (phi_m): Sequential(\n",
       "          (0): Linear(in_features=128, out_features=1, bias=True)\n",
       "          (1): Sigmoid()\n",
       "        )\n",
       "      )\n",
       "      (3): LGEB(\n",
       "        (phi_e): Sequential(\n",
       "          (0): Linear(in_features=258, out_features=128, bias=False)\n",
       "          (1): BatchNorm1d(128, eps=1e-05, momentum=0.1, affine=True, track_running_stats=True)\n",
       "          (2): ReLU()\n",
       "          (3): Linear(in_features=128, out_features=128, bias=True)\n",
       "          (4): ReLU()\n",
       "        )\n",
       "        (phi_h): Sequential(\n",
       "          (0): Linear(in_features=267, out_features=128, bias=True)\n",
       "          (1): BatchNorm1d(128, eps=1e-05, momentum=0.1, affine=True, track_running_stats=True)\n",
       "          (2): ReLU()\n",
       "          (3): Linear(in_features=128, out_features=128, bias=True)\n",
       "        )\n",
       "        (phi_m): Sequential(\n",
       "          (0): Linear(in_features=128, out_features=1, bias=True)\n",
       "          (1): Sigmoid()\n",
       "        )\n",
       "      )\n",
       "    )\n",
       "    (jet_classifier): Sequential(\n",
       "      (0): Linear(in_features=128, out_features=128, bias=True)\n",
       "      (1): ReLU()\n",
       "      (2): Dropout(p=0.1, inplace=False)\n",
       "      (3): Linear(in_features=128, out_features=2, bias=True)\n",
       "    )\n",
       "  )\n",
       ")"
      ]
     },
     "execution_count": 4,
     "metadata": {},
     "output_type": "execute_result"
    }
   ],
   "source": [
    "import torch\n",
    "from vbf_tagger.models.LorentzNet import classification\n",
    "\n",
    "# Load checkpoint\n",
    "ckpt_path = \"/home/norman/vbf-tagger/outputs/vbf_run/classification/models/model_best.ckpt\"\n",
    "checkpoint = torch.load(ckpt_path, map_location=\"cpu\", weights_only=False)\n",
    "\n",
    "# Extract the hyperparameters dict\n",
    "hyperparams = checkpoint[\"hyper_parameters\"]\n",
    "\n",
    "# Build model manually\n",
    "model = classification(name=\"classification\", hyperparameters=hyperparams)\n",
    "\n",
    "# Load trained weights\n",
    "model.load_state_dict(checkpoint[\"state_dict\"])\n",
    "\n",
    "# Put in eval mode\n",
    "model.eval()\n"
   ]
  },
  {
   "cell_type": "code",
   "execution_count": 5,
   "id": "59bfde0c-8204-4437-bf73-1a4ee455ff77",
   "metadata": {},
   "outputs": [
    {
     "name": "stdout",
     "output_type": "stream",
     "text": [
      "There are 294,759 waveforms/events/jets in the dataset.\n",
      "There are 84,202 waveforms/events/jets in the dataset.\n",
      "<class 'list'> 4\n"
     ]
    }
   ],
   "source": [
    "cfg = OmegaConf.load(\"/home/norman/vbf-tagger/vbf_tagger/config/training.yaml\")\n",
    "\n",
    "# Add dataset info manually\n",
    "cfg.dataset = {\n",
    "    \"data_dir\": \"/home/norman/vbf-tagger/vbf_tagger/data/22pre/hh_vbf/preprocessed_filtered/\",\n",
    "    \"train_dir\": \"train\",\n",
    "    \"val_dir\": \"val\",\n",
    "    \"test_dir\": \"test\"\n",
    "}\n",
    "\n",
    "dm = VBFDataModule(cfg=cfg, data_type=\"val\", device=\"cpu\")\n",
    "dm.setup(stage=\"fit\")\n",
    "val_loader = dm.val_dataloader()\n",
    "\n",
    "batch = next(iter(val_loader))\n",
    "print(type(batch), len(batch))\n"
   ]
  },
  {
   "cell_type": "code",
   "execution_count": 6,
   "id": "28ab15fe-6f8c-431b-a9b7-91caa171c633",
   "metadata": {},
   "outputs": [],
   "source": [
    "with torch.no_grad():\n",
    "    logits = model(batch)  # pass the entire batch\n",
    "    # If your model returns tuple (e.g., logits, extra_info), take the first element:\n",
    "    if isinstance(logits, tuple):\n",
    "        logits = logits[0]\n",
    "\n",
    "# Get VBF probability\n",
    "probs = torch.softmax(logits, dim=1)[:, 1]\n",
    "\n",
    "# True labels\n",
    "y_true = batch[3].flatten().numpy()  # batch[3] is the label tensor\n",
    "y_score = probs.flatten().numpy()"
   ]
  },
  {
   "cell_type": "code",
   "execution_count": 8,
   "id": "0c3a1f46-abbc-43e7-afe9-33973d4196a0",
   "metadata": {},
   "outputs": [
    {
     "name": "stdout",
     "output_type": "stream",
     "text": [
      "torch.Size([1024, 18, 2])\n",
      "torch.Size([1024, 16])\n"
     ]
    }
   ],
   "source": [
    "print(logits.shape)  # e.g., [batch_size, 2]\n",
    "print(batch[3].shape)  # e.g., [batch_size, num_candidates]\n"
   ]
  },
  {
   "cell_type": "code",
   "execution_count": 10,
   "id": "e6bf4a09-52cf-4df5-be95-6ca38f10363e",
   "metadata": {},
   "outputs": [],
   "source": [
    "y_score = probs.flatten().cpu().numpy()\n",
    "y_true = batch[3].flatten().cpu().numpy()\n",
    "y_true = batch[3].any(dim=1).cpu().numpy()  # True if any candidate is VBF\n"
   ]
  },
  {
   "cell_type": "code",
   "execution_count": 11,
   "id": "0431d9e6-905c-4c6d-8948-d1cd69ae74dd",
   "metadata": {},
   "outputs": [
    {
     "ename": "ValueError",
     "evalue": "Found input variables with inconsistent numbers of samples: [1024, 2048]",
     "output_type": "error",
     "traceback": [
      "\u001b[31m---------------------------------------------------------------------------\u001b[39m",
      "\u001b[31mValueError\u001b[39m                                Traceback (most recent call last)",
      "\u001b[36mCell\u001b[39m\u001b[36m \u001b[39m\u001b[32mIn[11]\u001b[39m\u001b[32m, line 2\u001b[39m\n\u001b[32m      1\u001b[39m roc_plot = cv.VBFROCPlot()\n\u001b[32m----> \u001b[39m\u001b[32m2\u001b[39m \u001b[43mroc_plot\u001b[49m\u001b[43m.\u001b[49m\u001b[43mplot\u001b[49m\u001b[43m(\u001b[49m\u001b[43my_true\u001b[49m\u001b[43m,\u001b[49m\u001b[43m \u001b[49m\u001b[43my_score\u001b[49m\u001b[43m,\u001b[49m\u001b[43m \u001b[49m\u001b[43mlabel\u001b[49m\u001b[43m=\u001b[49m\u001b[33;43m\"\u001b[39;49m\u001b[33;43mVBF classifier\u001b[39;49m\u001b[33;43m\"\u001b[39;49m\u001b[43m)\u001b[49m\n\u001b[32m      4\u001b[39m \u001b[38;5;66;03m# -------------------\u001b[39;00m\n\u001b[32m      5\u001b[39m \u001b[38;5;66;03m# 4. Plot classifier score histogram\u001b[39;00m\n\u001b[32m      6\u001b[39m \u001b[38;5;66;03m# -------------------\u001b[39;00m\n\u001b[32m      7\u001b[39m score_hist = cv.VBFScoreHistogram(num_bins=\u001b[32m25\u001b[39m)\n",
      "\u001b[36mFile \u001b[39m\u001b[32m~/vbf-tagger/vbf_tagger/tools/visualization/classification.py:57\u001b[39m, in \u001b[36mVBFROCPlot.plot\u001b[39m\u001b[34m(self, y_true, y_score, label, output_path)\u001b[39m\n\u001b[32m     56\u001b[39m \u001b[38;5;28;01mdef\u001b[39;00m\u001b[38;5;250m \u001b[39m\u001b[34mplot\u001b[39m(\u001b[38;5;28mself\u001b[39m, y_true: np.ndarray, y_score: np.ndarray, label: \u001b[38;5;28mstr\u001b[39m = \u001b[33m\"\u001b[39m\u001b[33mVBF classifier\u001b[39m\u001b[33m\"\u001b[39m, output_path: \u001b[38;5;28mstr\u001b[39m = \u001b[33m\"\u001b[39m\u001b[33m\"\u001b[39m):\n\u001b[32m---> \u001b[39m\u001b[32m57\u001b[39m     fpr, tpr, _ = \u001b[43mroc_curve\u001b[49m\u001b[43m(\u001b[49m\u001b[43my_true\u001b[49m\u001b[43m,\u001b[49m\u001b[43m \u001b[49m\u001b[43my_score\u001b[49m\u001b[43m)\u001b[49m\n\u001b[32m     58\u001b[39m     roc_auc = auc(fpr, tpr)\n\u001b[32m     60\u001b[39m     \u001b[38;5;28mself\u001b[39m.ax.plot(fpr, tpr, label=\u001b[33mf\u001b[39m\u001b[33m\"\u001b[39m\u001b[38;5;132;01m{\u001b[39;00mlabel\u001b[38;5;132;01m}\u001b[39;00m\u001b[33m (AUC=\u001b[39m\u001b[38;5;132;01m{\u001b[39;00mroc_auc\u001b[38;5;132;01m:\u001b[39;00m\u001b[33m.3f\u001b[39m\u001b[38;5;132;01m}\u001b[39;00m\u001b[33m)\u001b[39m\u001b[33m\"\u001b[39m)\n",
      "\u001b[36mFile \u001b[39m\u001b[32m/opt/conda/lib/python3.11/site-packages/sklearn/utils/_param_validation.py:218\u001b[39m, in \u001b[36mvalidate_params.<locals>.decorator.<locals>.wrapper\u001b[39m\u001b[34m(*args, **kwargs)\u001b[39m\n\u001b[32m    212\u001b[39m \u001b[38;5;28;01mtry\u001b[39;00m:\n\u001b[32m    213\u001b[39m     \u001b[38;5;28;01mwith\u001b[39;00m config_context(\n\u001b[32m    214\u001b[39m         skip_parameter_validation=(\n\u001b[32m    215\u001b[39m             prefer_skip_nested_validation \u001b[38;5;129;01mor\u001b[39;00m global_skip_validation\n\u001b[32m    216\u001b[39m         )\n\u001b[32m    217\u001b[39m     ):\n\u001b[32m--> \u001b[39m\u001b[32m218\u001b[39m         \u001b[38;5;28;01mreturn\u001b[39;00m \u001b[43mfunc\u001b[49m\u001b[43m(\u001b[49m\u001b[43m*\u001b[49m\u001b[43margs\u001b[49m\u001b[43m,\u001b[49m\u001b[43m \u001b[49m\u001b[43m*\u001b[49m\u001b[43m*\u001b[49m\u001b[43mkwargs\u001b[49m\u001b[43m)\u001b[49m\n\u001b[32m    219\u001b[39m \u001b[38;5;28;01mexcept\u001b[39;00m InvalidParameterError \u001b[38;5;28;01mas\u001b[39;00m e:\n\u001b[32m    220\u001b[39m     \u001b[38;5;66;03m# When the function is just a wrapper around an estimator, we allow\u001b[39;00m\n\u001b[32m    221\u001b[39m     \u001b[38;5;66;03m# the function to delegate validation to the estimator, but we replace\u001b[39;00m\n\u001b[32m    222\u001b[39m     \u001b[38;5;66;03m# the name of the estimator by the name of the function in the error\u001b[39;00m\n\u001b[32m    223\u001b[39m     \u001b[38;5;66;03m# message to avoid confusion.\u001b[39;00m\n\u001b[32m    224\u001b[39m     msg = re.sub(\n\u001b[32m    225\u001b[39m         \u001b[33mr\u001b[39m\u001b[33m\"\u001b[39m\u001b[33mparameter of \u001b[39m\u001b[33m\\\u001b[39m\u001b[33mw+ must be\u001b[39m\u001b[33m\"\u001b[39m,\n\u001b[32m    226\u001b[39m         \u001b[33mf\u001b[39m\u001b[33m\"\u001b[39m\u001b[33mparameter of \u001b[39m\u001b[38;5;132;01m{\u001b[39;00mfunc.\u001b[34m__qualname__\u001b[39m\u001b[38;5;132;01m}\u001b[39;00m\u001b[33m must be\u001b[39m\u001b[33m\"\u001b[39m,\n\u001b[32m    227\u001b[39m         \u001b[38;5;28mstr\u001b[39m(e),\n\u001b[32m    228\u001b[39m     )\n",
      "\u001b[36mFile \u001b[39m\u001b[32m/opt/conda/lib/python3.11/site-packages/sklearn/metrics/_ranking.py:1163\u001b[39m, in \u001b[36mroc_curve\u001b[39m\u001b[34m(y_true, y_score, pos_label, sample_weight, drop_intermediate)\u001b[39m\n\u001b[32m   1059\u001b[39m \u001b[38;5;129m@validate_params\u001b[39m(\n\u001b[32m   1060\u001b[39m     {\n\u001b[32m   1061\u001b[39m         \u001b[33m\"\u001b[39m\u001b[33my_true\u001b[39m\u001b[33m\"\u001b[39m: [\u001b[33m\"\u001b[39m\u001b[33marray-like\u001b[39m\u001b[33m\"\u001b[39m],\n\u001b[32m   (...)\u001b[39m\u001b[32m   1070\u001b[39m     y_true, y_score, *, pos_label=\u001b[38;5;28;01mNone\u001b[39;00m, sample_weight=\u001b[38;5;28;01mNone\u001b[39;00m, drop_intermediate=\u001b[38;5;28;01mTrue\u001b[39;00m\n\u001b[32m   1071\u001b[39m ):\n\u001b[32m   1072\u001b[39m \u001b[38;5;250m    \u001b[39m\u001b[33;03m\"\"\"Compute Receiver operating characteristic (ROC).\u001b[39;00m\n\u001b[32m   1073\u001b[39m \n\u001b[32m   1074\u001b[39m \u001b[33;03m    Note: this implementation is restricted to the binary classification task.\u001b[39;00m\n\u001b[32m   (...)\u001b[39m\u001b[32m   1161\u001b[39m \u001b[33;03m    array([ inf, 0.8 , 0.4 , 0.35, 0.1 ])\u001b[39;00m\n\u001b[32m   1162\u001b[39m \u001b[33;03m    \"\"\"\u001b[39;00m\n\u001b[32m-> \u001b[39m\u001b[32m1163\u001b[39m     fps, tps, thresholds = \u001b[43m_binary_clf_curve\u001b[49m\u001b[43m(\u001b[49m\n\u001b[32m   1164\u001b[39m \u001b[43m        \u001b[49m\u001b[43my_true\u001b[49m\u001b[43m,\u001b[49m\u001b[43m \u001b[49m\u001b[43my_score\u001b[49m\u001b[43m,\u001b[49m\u001b[43m \u001b[49m\u001b[43mpos_label\u001b[49m\u001b[43m=\u001b[49m\u001b[43mpos_label\u001b[49m\u001b[43m,\u001b[49m\u001b[43m \u001b[49m\u001b[43msample_weight\u001b[49m\u001b[43m=\u001b[49m\u001b[43msample_weight\u001b[49m\n\u001b[32m   1165\u001b[39m \u001b[43m    \u001b[49m\u001b[43m)\u001b[49m\n\u001b[32m   1167\u001b[39m     \u001b[38;5;66;03m# Attempt to drop thresholds corresponding to points in between and\u001b[39;00m\n\u001b[32m   1168\u001b[39m     \u001b[38;5;66;03m# collinear with other points. These are always suboptimal and do not\u001b[39;00m\n\u001b[32m   1169\u001b[39m     \u001b[38;5;66;03m# appear on a plotted ROC curve (and thus do not affect the AUC).\u001b[39;00m\n\u001b[32m   (...)\u001b[39m\u001b[32m   1174\u001b[39m     \u001b[38;5;66;03m# but does not drop more complicated cases like fps = [1, 3, 7],\u001b[39;00m\n\u001b[32m   1175\u001b[39m     \u001b[38;5;66;03m# tps = [1, 2, 4]; there is no harm in keeping too many thresholds.\u001b[39;00m\n\u001b[32m   1176\u001b[39m     \u001b[38;5;28;01mif\u001b[39;00m drop_intermediate \u001b[38;5;129;01mand\u001b[39;00m \u001b[38;5;28mlen\u001b[39m(fps) > \u001b[32m2\u001b[39m:\n",
      "\u001b[36mFile \u001b[39m\u001b[32m/opt/conda/lib/python3.11/site-packages/sklearn/metrics/_ranking.py:865\u001b[39m, in \u001b[36m_binary_clf_curve\u001b[39m\u001b[34m(y_true, y_score, pos_label, sample_weight)\u001b[39m\n\u001b[32m    862\u001b[39m \u001b[38;5;28;01mif\u001b[39;00m \u001b[38;5;129;01mnot\u001b[39;00m (y_type == \u001b[33m\"\u001b[39m\u001b[33mbinary\u001b[39m\u001b[33m\"\u001b[39m \u001b[38;5;129;01mor\u001b[39;00m (y_type == \u001b[33m\"\u001b[39m\u001b[33mmulticlass\u001b[39m\u001b[33m\"\u001b[39m \u001b[38;5;129;01mand\u001b[39;00m pos_label \u001b[38;5;129;01mis\u001b[39;00m \u001b[38;5;129;01mnot\u001b[39;00m \u001b[38;5;28;01mNone\u001b[39;00m)):\n\u001b[32m    863\u001b[39m     \u001b[38;5;28;01mraise\u001b[39;00m \u001b[38;5;167;01mValueError\u001b[39;00m(\u001b[33m\"\u001b[39m\u001b[38;5;132;01m{0}\u001b[39;00m\u001b[33m format is not supported\u001b[39m\u001b[33m\"\u001b[39m.format(y_type))\n\u001b[32m--> \u001b[39m\u001b[32m865\u001b[39m \u001b[43mcheck_consistent_length\u001b[49m\u001b[43m(\u001b[49m\u001b[43my_true\u001b[49m\u001b[43m,\u001b[49m\u001b[43m \u001b[49m\u001b[43my_score\u001b[49m\u001b[43m,\u001b[49m\u001b[43m \u001b[49m\u001b[43msample_weight\u001b[49m\u001b[43m)\u001b[49m\n\u001b[32m    866\u001b[39m y_true = column_or_1d(y_true)\n\u001b[32m    867\u001b[39m y_score = column_or_1d(y_score)\n",
      "\u001b[36mFile \u001b[39m\u001b[32m/opt/conda/lib/python3.11/site-packages/sklearn/utils/validation.py:473\u001b[39m, in \u001b[36mcheck_consistent_length\u001b[39m\u001b[34m(*arrays)\u001b[39m\n\u001b[32m    471\u001b[39m lengths = [_num_samples(X) \u001b[38;5;28;01mfor\u001b[39;00m X \u001b[38;5;129;01min\u001b[39;00m arrays \u001b[38;5;28;01mif\u001b[39;00m X \u001b[38;5;129;01mis\u001b[39;00m \u001b[38;5;129;01mnot\u001b[39;00m \u001b[38;5;28;01mNone\u001b[39;00m]\n\u001b[32m    472\u001b[39m \u001b[38;5;28;01mif\u001b[39;00m \u001b[38;5;28mlen\u001b[39m(\u001b[38;5;28mset\u001b[39m(lengths)) > \u001b[32m1\u001b[39m:\n\u001b[32m--> \u001b[39m\u001b[32m473\u001b[39m     \u001b[38;5;28;01mraise\u001b[39;00m \u001b[38;5;167;01mValueError\u001b[39;00m(\n\u001b[32m    474\u001b[39m         \u001b[33m\"\u001b[39m\u001b[33mFound input variables with inconsistent numbers of samples: \u001b[39m\u001b[38;5;132;01m%r\u001b[39;00m\u001b[33m\"\u001b[39m\n\u001b[32m    475\u001b[39m         % [\u001b[38;5;28mint\u001b[39m(l) \u001b[38;5;28;01mfor\u001b[39;00m l \u001b[38;5;129;01min\u001b[39;00m lengths]\n\u001b[32m    476\u001b[39m     )\n",
      "\u001b[31mValueError\u001b[39m: Found input variables with inconsistent numbers of samples: [1024, 2048]"
     ]
    },
    {
     "data": {
      "image/png": "[encoded data removed]",
      "text/plain": [
       "<Figure size 800x800 with 1 Axes>"
      ]
     },
     "metadata": {},
     "output_type": "display_data"
    }
   ],
   "source": [
    "roc_plot = cv.VBFROCPlot()\n",
    "roc_plot.plot(y_true, y_score, label=\"VBF classifier\")\n",
    "\n",
    "# -------------------\n",
    "# 4. Plot classifier score histogram\n",
    "# -------------------\n",
    "score_hist = cv.VBFScoreHistogram(num_bins=25)\n",
    "score_hist.plot(y_true, y_score)"
   ]
  },
  {
   "cell_type": "code",
   "execution_count": null,
   "id": "12034db6-1b2e-4d6c-a636-0d52c74c5135",
   "metadata": {},
   "outputs": [],
   "source": []
  }
 ],
 "metadata": {
  "kernelspec": {
   "display_name": "Python 3 (ipykernel)",
   "language": "python",
   "name": "python3"
  },
  "language_info": {
   "codemirror_mode": {
    "name": "ipython",
    "version": 3
   },
   "file_extension": ".py",
   "mimetype": "text/x-python",
   "name": "python",
   "nbconvert_exporter": "python",
   "pygments_lexer": "ipython3",
   "version": "3.11.13"
  }
 },
 "nbformat": 4,
 "nbformat_minor": 5
}
